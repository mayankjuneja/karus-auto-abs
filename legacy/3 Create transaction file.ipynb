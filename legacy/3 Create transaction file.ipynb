{
 "cells": [
  {
   "cell_type": "markdown",
   "metadata": {},
   "source": [
    "### Load libs"
   ]
  },
  {
   "cell_type": "code",
   "execution_count": 17,
   "metadata": {},
   "outputs": [
    {
     "name": "stdout",
     "output_type": "stream",
     "text": [
      "INFO: Pandarallel will run on 12 workers.\n",
      "INFO: Pandarallel will use standard multiprocessing data transfer (pipe) to transfer data between the main process and workers.\n"
     ]
    }
   ],
   "source": [
    "import pandas as pd\n",
    "import json\n",
    "import numpy as np\n",
    "import random\n",
    "from pandarallel import pandarallel\n",
    "import re\n",
    "\n",
    "pandarallel.initialize()\n"
   ]
  },
  {
   "cell_type": "code",
   "execution_count": 18,
   "metadata": {},
   "outputs": [
    {
     "name": "stderr",
     "output_type": "stream",
     "text": [
      "/anaconda3/envs/kn/lib/python3.7/site-packages/ipykernel_launcher.py:4: FutureWarning: Passing a negative integer is deprecated in version 1.0 and will not be supported in future version. Instead, use None to not limit the column width.\n",
      "  after removing the cwd from sys.path.\n"
     ]
    }
   ],
   "source": [
    "n = 500\n",
    "pd.set_option('display.max_columns', n)\n",
    "pd.set_option('display.max_rows', n)\n",
    "pd.set_option('display.max_colwidth', -1)"
   ]
  },
  {
   "cell_type": "markdown",
   "metadata": {},
   "source": [
    "### Load data"
   ]
  },
  {
   "cell_type": "code",
   "execution_count": 19,
   "metadata": {},
   "outputs": [],
   "source": [
    "term = 'AmeriCredit Automobile Receivables Trust 2017-1 Data Tape'\n"
   ]
  },
  {
   "cell_type": "code",
   "execution_count": 20,
   "metadata": {},
   "outputs": [
    {
     "data": {
      "text/plain": [
       "(1509167, 73)"
      ]
     },
     "execution_count": 20,
     "metadata": {},
     "output_type": "execute_result"
    }
   ],
   "source": [
    "# load abs\n",
    "folder = 'data/combined/'\n",
    "file = '{}.csv'.format(term)\n",
    "path = folder + file\n",
    "data = pd.read_csv(path)\n",
    "data.shape\n"
   ]
  },
  {
   "cell_type": "code",
   "execution_count": 21,
   "metadata": {},
   "outputs": [],
   "source": [
    "# load fields\n",
    "f_folder = 'data/json/fields/'\n",
    "f_file = 'fields.json'\n",
    "f_path = f_folder + f_file\n",
    "with open(f_path) as f:\n",
    "    fields = json.load(f)\n",
    "    "
   ]
  },
  {
   "cell_type": "code",
   "execution_count": 22,
   "metadata": {},
   "outputs": [],
   "source": [
    "# load mapper\n",
    "m_folder = 'data/dictionary/mapper/'\n",
    "m_file = 'mapper.json'\n",
    "m_path = m_folder + m_file\n",
    "with open(m_path) as f:\n",
    "    mapper = json.load(f)\n",
    "    "
   ]
  },
  {
   "cell_type": "code",
   "execution_count": 24,
   "metadata": {},
   "outputs": [
    {
     "data": {
      "text/plain": [
       "'2017-1'"
      ]
     },
     "execution_count": 24,
     "metadata": {},
     "output_type": "execute_result"
    }
   ],
   "source": [
    "# find securitization\n",
    "finder = re.compile('\\d{4,}\\W\\d{1,}')\n",
    "add_id = re.findall(finder, term)[0]\n",
    "add_id"
   ]
  },
  {
   "cell_type": "markdown",
   "metadata": {},
   "source": [
    "### Formatting"
   ]
  },
  {
   "cell_type": "code",
   "execution_count": 25,
   "metadata": {},
   "outputs": [],
   "source": [
    "init_id = fields['init_id'][0]\n",
    "date_cols = fields['dates']\n",
    "replacer_cols = fields['replace_dash']\n",
    "clean_cols = fields['clean']\n",
    "m_cols = fields['map']\n",
    "event_cols = fields['event']\n",
    "loc_cols = fields['all_loc']\n",
    "numeric_cols = fields['numeric']\n",
    "all_vals_cols = fields['all_vals']\n",
    "min_max_cols = fields['min_max']"
   ]
  },
  {
   "cell_type": "code",
   "execution_count": 26,
   "metadata": {},
   "outputs": [],
   "source": [
    "def convert_id(row, column):\n",
    "    \n",
    "    \"\"\"\n",
    "    Convert ids\n",
    "    \"\"\"\n",
    "    \n",
    "    init = str(row[column])\n",
    "    \n",
    "    cleaned = init.replace('=', '').replace('\"', '').strip()\n",
    "    \n",
    "    return cleaned\n",
    "    "
   ]
  },
  {
   "cell_type": "code",
   "execution_count": 27,
   "metadata": {},
   "outputs": [],
   "source": [
    "def reorder_date(row, column):\n",
    "    \n",
    "    \"\"\"\n",
    "    Reorder date\n",
    "    \"\"\"\n",
    "    \n",
    "    init = str(row[column])\n",
    "    if init != '-':\n",
    "        if '/' not in init:\n",
    "            y = init[6:10]\n",
    "            m = init[0:2]\n",
    "            d = init[3:5]\n",
    "            date = y + '-' + m + '-' + d\n",
    "        elif '/' in init:\n",
    "            y = init[3:7]\n",
    "            m = init[0:2]\n",
    "            date = y + '-' + m\n",
    "    else:\n",
    "        date = ''\n",
    "    \n",
    "    return date\n",
    "        "
   ]
  },
  {
   "cell_type": "code",
   "execution_count": 28,
   "metadata": {},
   "outputs": [],
   "source": [
    "data['ID'] = data.parallel_apply(convert_id, args = ('assetNumber', ), axis = 1)\n",
    "data['id'] = data['ID'] + ' {}'.format(add_id)\n"
   ]
  },
  {
   "cell_type": "code",
   "execution_count": 30,
   "metadata": {},
   "outputs": [
    {
     "name": "stdout",
     "output_type": "stream",
     "text": [
      "reportingPeriodEndingDate\n",
      "originalFirstPaymentDate\n",
      "loanMaturityDate\n",
      "interestPaidThroughDate\n",
      "reportingPeriodBeginningDate\n",
      "DemandResolutionDate\n",
      "originationDate\n",
      "mostRecentServicingTransferReceivedDate\n",
      "zeroBalanceEffectiveDate\n"
     ]
    }
   ],
   "source": [
    "for col in date_cols:\n",
    "    print(col)\n",
    "    data['{}R'.format(col)] = data.parallel_apply(reorder_date, args = (col, ), axis = 1)\n",
    "    "
   ]
  },
  {
   "cell_type": "code",
   "execution_count": 31,
   "metadata": {},
   "outputs": [],
   "source": [
    "data[replacer_cols] = data[replacer_cols].replace('-', np.nan)"
   ]
  },
  {
   "cell_type": "code",
   "execution_count": 32,
   "metadata": {},
   "outputs": [],
   "source": [
    "# clean cols\n",
    "for col in clean_cols:\n",
    "    data[col] = data[col].str.strip()\n",
    "    data[col] = data[col].astype(float)\n",
    "    "
   ]
  },
  {
   "cell_type": "code",
   "execution_count": 33,
   "metadata": {},
   "outputs": [],
   "source": [
    "def replace_val(row, column):\n",
    "    \n",
    "    \"\"\"\n",
    "    Replace numeric values\n",
    "    \"\"\"\n",
    "    \n",
    "    init = str(row[column]).strip().replace(';', '')\n",
    "    if init in ['0', '1', '2', '3', '4', '5', '98', '99']:\n",
    "        mapped = mapper[column][init]\n",
    "        return mapped\n",
    "    else:\n",
    "        if init[0] in ['0', '1', '2', '3', '4', '5']:\n",
    "            use = init[0]\n",
    "        elif init == '-':\n",
    "            use_keys = list(mapper[column].keys())\n",
    "            if '98' in use_keys:\n",
    "                use = '98'\n",
    "            elif '99' in use_keys:\n",
    "                use = '99'\n",
    "        else:\n",
    "            use = init\n",
    "        mapped = mapper[column][use]\n",
    "    return mapped\n",
    "    "
   ]
  },
  {
   "cell_type": "code",
   "execution_count": 34,
   "metadata": {},
   "outputs": [
    {
     "name": "stdout",
     "output_type": "stream",
     "text": [
      "zeroBalanceCode\n",
      "modificationTypeCode\n",
      "interestCalculationTypeCode\n",
      "obligorIncomeVerificationLevelCode\n",
      "vehicleValueSourceCode\n",
      "servicingAdvanceMethodCode\n",
      "obligorEmploymentVerificationCode\n",
      "originalInterestRateTypeCode\n",
      "subvented\n",
      "assetSubjectDemandStatusCode\n",
      "repurchaseReplacementReasonCode\n",
      "vehicleTypeCode\n",
      "vehicleNewUsedCode\n",
      "paymentTypeCode\n"
     ]
    }
   ],
   "source": [
    "for col in m_cols:\n",
    "    print(col)\n",
    "    new_col = col + 'M'\n",
    "    data[new_col] = data.parallel_apply(replace_val, args = (col, ), axis = 1)\n",
    "    "
   ]
  },
  {
   "cell_type": "code",
   "execution_count": 35,
   "metadata": {},
   "outputs": [],
   "source": [
    "def acct_status(row, b_col, e_col, zero_col, thresh):\n",
    "    \n",
    "    \"\"\"\n",
    "    Create karus account status\n",
    "    \"\"\"\n",
    "    \n",
    "    b = float(row[b_col])\n",
    "    e = float(row[e_col])\n",
    "    z = str(row[zero_col])\n",
    "    \n",
    "    if z in ['Charged-off', 'Repurchased or Replaced']:\n",
    "        res = z\n",
    "        return res\n",
    "    if b < thresh and e < thresh:\n",
    "        res = 'Prepaid or Matured'\n",
    "        return res\n",
    "    if z in ['Unavailable', 'Prepaid or Matured']:\n",
    "        res = z\n",
    "        return res\n",
    "    "
   ]
  },
  {
   "cell_type": "code",
   "execution_count": 36,
   "metadata": {},
   "outputs": [],
   "source": [
    "b_col = 'reportingPeriodBeginningLoanBalanceAmount'\n",
    "e_col = 'nextReportingPeriodPaymentAmountDue'\n",
    "z_col = 'zeroBalanceCodeM'\n",
    "thresh = 50\n"
   ]
  },
  {
   "cell_type": "code",
   "execution_count": null,
   "metadata": {},
   "outputs": [],
   "source": [
    "data['accountStatus'] = data.parallel_apply(acct_status, args = (b_col, e_col, z_col, thresh, ), axis = 1)"
   ]
  },
  {
   "cell_type": "code",
   "execution_count": null,
   "metadata": {},
   "outputs": [],
   "source": [
    "data['accountStatus'].value_counts()"
   ]
  },
  {
   "cell_type": "markdown",
   "metadata": {},
   "source": [
    "### Application"
   ]
  },
  {
   "cell_type": "code",
   "execution_count": 20,
   "metadata": {},
   "outputs": [],
   "source": [
    "all_ids = list(data['ID'].unique())\n",
    "print_vals = list(range(0, len(all_ids), 100))\n"
   ]
  },
  {
   "cell_type": "code",
   "execution_count": 21,
   "metadata": {},
   "outputs": [],
   "source": [
    "#_id = '0001694010 - 000010'\n",
    "#all_ids = ['0001694010 - 000010', '0001694010 - 000088', '0001694010 - 009321']\n",
    "sum_cols = ['chargedoffPrincipalAmount', 'recoveredAmount', 'repossessedProceedsAmount']\n",
    "id_col = 'ID'\n",
    "status_col = 'accountStatus'\n",
    "values = ['Charged-off', 'Prepaid or Matured', 'Repurchased or Replaced']\n"
   ]
  },
  {
   "cell_type": "code",
   "execution_count": 22,
   "metadata": {
    "scrolled": true
   },
   "outputs": [
    {
     "name": "stdout",
     "output_type": "stream",
     "text": [
      "100 6.626171921331436e-05\n",
      "------------------------------\n",
      "200 0.00013252343842662872\n",
      "------------------------------\n",
      "300 0.0001987851576399431\n",
      "------------------------------\n",
      "400 0.00026504687685325744\n",
      "------------------------------\n",
      "500 0.0003313085960665718\n",
      "------------------------------\n",
      "600 0.0003975703152798862\n",
      "------------------------------\n",
      "700 0.0004638320344932006\n",
      "------------------------------\n",
      "800 0.0005300937537065149\n",
      "------------------------------\n",
      "900 0.0005963554729198293\n",
      "------------------------------\n",
      "1000 0.0006626171921331436\n",
      "------------------------------\n",
      "1100 0.000728878911346458\n",
      "------------------------------\n",
      "1200 0.0007951406305597724\n",
      "------------------------------\n",
      "1300 0.0008614023497730867\n",
      "------------------------------\n",
      "1400 0.0009276640689864011\n",
      "------------------------------\n",
      "1500 0.0009939257881997155\n",
      "------------------------------\n",
      "1600 0.0010601875074130298\n",
      "------------------------------\n",
      "1700 0.0011264492266263443\n",
      "------------------------------\n",
      "1800 0.0011927109458396586\n",
      "------------------------------\n",
      "1900 0.0012589726650529729\n",
      "------------------------------\n",
      "2000 0.0013252343842662872\n",
      "------------------------------\n",
      "2100 0.0013914961034796017\n",
      "------------------------------\n",
      "2200 0.001457757822692916\n",
      "------------------------------\n",
      "2300 0.0015240195419062303\n",
      "------------------------------\n",
      "2400 0.0015902812611195449\n",
      "------------------------------\n",
      "2500 0.0016565429803328592\n",
      "------------------------------\n",
      "2600 0.0017228046995461735\n",
      "------------------------------\n",
      "2700 0.0017890664187594878\n",
      "------------------------------\n",
      "2800 0.0018553281379728023\n",
      "------------------------------\n",
      "2900 0.0019215898571861166\n",
      "------------------------------\n",
      "3000 0.001987851576399431\n",
      "------------------------------\n",
      "3100 0.0020541132956127454\n",
      "------------------------------\n",
      "3200 0.0021203750148260595\n",
      "------------------------------\n",
      "3300 0.002186636734039374\n",
      "------------------------------\n",
      "3400 0.0022528984532526886\n",
      "------------------------------\n",
      "3500 0.0023191601724660026\n",
      "------------------------------\n",
      "3600 0.002385421891679317\n",
      "------------------------------\n",
      "3700 0.0024516836108926317\n",
      "------------------------------\n",
      "3800 0.0025179453301059458\n",
      "------------------------------\n",
      "3900 0.0025842070493192603\n",
      "------------------------------\n",
      "4000 0.0026504687685325744\n",
      "------------------------------\n",
      "4100 0.002716730487745889\n",
      "------------------------------\n",
      "4200 0.0027829922069592034\n",
      "------------------------------\n",
      "4300 0.0028492539261725175\n",
      "------------------------------\n",
      "4400 0.002915515645385832\n",
      "------------------------------\n",
      "4500 0.0029817773645991466\n",
      "------------------------------\n",
      "4600 0.0030480390838124607\n",
      "------------------------------\n",
      "4700 0.003114300803025775\n",
      "------------------------------\n",
      "4800 0.0031805625222390897\n",
      "------------------------------\n",
      "4900 0.003246824241452404\n",
      "------------------------------\n",
      "5000 0.0033130859606657183\n",
      "------------------------------\n",
      "5100 0.0033793476798790324\n",
      "------------------------------\n",
      "5200 0.003445609399092347\n",
      "------------------------------\n",
      "5300 0.0035118711183056615\n",
      "------------------------------\n",
      "5400 0.0035781328375189755\n",
      "------------------------------\n",
      "5500 0.00364439455673229\n",
      "------------------------------\n",
      "5600 0.0037106562759456046\n",
      "------------------------------\n",
      "5700 0.0037769179951589187\n",
      "------------------------------\n",
      "5800 0.003843179714372233\n",
      "------------------------------\n",
      "5900 0.003909441433585547\n",
      "------------------------------\n",
      "6000 0.003975703152798862\n",
      "------------------------------\n",
      "6100 0.004041964872012176\n",
      "------------------------------\n",
      "6200 0.004108226591225491\n",
      "------------------------------\n",
      "6300 0.004174488310438805\n",
      "------------------------------\n",
      "6400 0.004240750029652119\n",
      "------------------------------\n",
      "6500 0.0043070117488654336\n",
      "------------------------------\n",
      "6600 0.004373273468078748\n",
      "------------------------------\n",
      "6700 0.004439535187292063\n",
      "------------------------------\n",
      "6800 0.004505796906505377\n",
      "------------------------------\n",
      "6900 0.004572058625718691\n",
      "------------------------------\n",
      "7000 0.004638320344932005\n",
      "------------------------------\n",
      "7100 0.00470458206414532\n",
      "------------------------------\n",
      "7200 0.004770843783358634\n",
      "------------------------------\n",
      "7300 0.004837105502571949\n",
      "------------------------------\n",
      "7400 0.004903367221785263\n",
      "------------------------------\n",
      "7500 0.004969628940998577\n",
      "------------------------------\n",
      "7600 0.0050358906602118916\n",
      "------------------------------\n",
      "7700 0.005102152379425206\n",
      "------------------------------\n",
      "7800 0.005168414098638521\n",
      "------------------------------\n",
      "7900 0.005234675817851835\n",
      "------------------------------\n",
      "8000 0.005300937537065149\n",
      "------------------------------\n",
      "8100 0.005367199256278463\n",
      "------------------------------\n",
      "8200 0.005433460975491778\n",
      "------------------------------\n",
      "8300 0.005499722694705092\n",
      "------------------------------\n",
      "8400 0.005565984413918407\n",
      "------------------------------\n",
      "8500 0.005632246133131721\n",
      "------------------------------\n",
      "8600 0.005698507852345035\n",
      "------------------------------\n",
      "8700 0.00576476957155835\n",
      "------------------------------\n",
      "8800 0.005831031290771664\n",
      "------------------------------\n",
      "8900 0.005897293009984979\n",
      "------------------------------\n",
      "9000 0.005963554729198293\n",
      "------------------------------\n",
      "9100 0.006029816448411607\n",
      "------------------------------\n",
      "9200 0.006096078167624921\n",
      "------------------------------\n",
      "9300 0.006162339886838236\n",
      "------------------------------\n",
      "9400 0.00622860160605155\n",
      "------------------------------\n",
      "9500 0.006294863325264865\n",
      "------------------------------\n",
      "9600 0.006361125044478179\n",
      "------------------------------\n",
      "9700 0.006427386763691493\n",
      "------------------------------\n",
      "9800 0.006493648482904808\n",
      "------------------------------\n",
      "9900 0.006559910202118122\n",
      "------------------------------\n",
      "10000 0.006626171921331437\n",
      "------------------------------\n",
      "10100 0.006692433640544751\n",
      "------------------------------\n",
      "10200 0.006758695359758065\n",
      "------------------------------\n",
      "10300 0.006824957078971379\n",
      "------------------------------\n",
      "10400 0.006891218798184694\n",
      "------------------------------\n",
      "10500 0.006957480517398008\n",
      "------------------------------\n",
      "10600 0.007023742236611323\n",
      "------------------------------\n",
      "10700 0.007090003955824637\n",
      "------------------------------\n",
      "10800 0.007156265675037951\n",
      "------------------------------\n",
      "10900 0.007222527394251266\n",
      "------------------------------\n",
      "11000 0.00728878911346458\n",
      "------------------------------\n",
      "11100 0.007355050832677895\n",
      "------------------------------\n",
      "11200 0.007421312551891209\n",
      "------------------------------\n",
      "11300 0.007487574271104523\n",
      "------------------------------\n",
      "11400 0.007553835990317837\n",
      "------------------------------\n",
      "11500 0.007620097709531152\n",
      "------------------------------\n",
      "11600 0.007686359428744466\n",
      "------------------------------\n",
      "11700 0.007752621147957781\n",
      "------------------------------\n",
      "11800 0.007818882867171095\n",
      "------------------------------\n",
      "11900 0.00788514458638441\n",
      "------------------------------\n",
      "12000 0.007951406305597724\n",
      "------------------------------\n",
      "12100 0.008017668024811039\n",
      "------------------------------\n",
      "12200 0.008083929744024353\n",
      "------------------------------\n",
      "12300 0.008150191463237666\n",
      "------------------------------\n",
      "12400 0.008216453182450982\n",
      "------------------------------\n",
      "12500 0.008282714901664295\n",
      "------------------------------\n",
      "12600 0.00834897662087761\n",
      "------------------------------\n",
      "12700 0.008415238340090924\n",
      "------------------------------\n",
      "12800 0.008481500059304238\n",
      "------------------------------\n",
      "12900 0.008547761778517553\n",
      "------------------------------\n",
      "13000 0.008614023497730867\n",
      "------------------------------\n",
      "13100 0.008680285216944182\n",
      "------------------------------\n",
      "13200 0.008746546936157496\n",
      "------------------------------\n",
      "13300 0.00881280865537081\n",
      "------------------------------\n",
      "13400 0.008879070374584125\n",
      "------------------------------\n",
      "13500 0.008945332093797439\n",
      "------------------------------\n",
      "13600 0.009011593813010754\n",
      "------------------------------\n",
      "13700 0.009077855532224068\n",
      "------------------------------\n",
      "13800 0.009144117251437382\n",
      "------------------------------\n",
      "13900 0.009210378970650697\n",
      "------------------------------\n",
      "14000 0.00927664068986401\n",
      "------------------------------\n",
      "14100 0.009342902409077326\n",
      "------------------------------\n"
     ]
    },
    {
     "ename": "KeyboardInterrupt",
     "evalue": "",
     "output_type": "error",
     "traceback": [
      "\u001b[0;31m---------------------------------------------------------------------------\u001b[0m",
      "\u001b[0;31mKeyboardInterrupt\u001b[0m                         Traceback (most recent call last)",
      "\u001b[0;32m<ipython-input-22-68c3f719048f>\u001b[0m in \u001b[0;36m<module>\u001b[0;34m\u001b[0m\n\u001b[1;32m      9\u001b[0m         \u001b[0mprint\u001b[0m\u001b[0;34m(\u001b[0m\u001b[0;34m'------------------------------'\u001b[0m\u001b[0;34m)\u001b[0m\u001b[0;34m\u001b[0m\u001b[0;34m\u001b[0m\u001b[0m\n\u001b[1;32m     10\u001b[0m \u001b[0;34m\u001b[0m\u001b[0m\n\u001b[0;32m---> 11\u001b[0;31m     \u001b[0mdf\u001b[0m \u001b[0;34m=\u001b[0m \u001b[0mdata\u001b[0m\u001b[0;34m[\u001b[0m\u001b[0mdata\u001b[0m\u001b[0;34m[\u001b[0m\u001b[0mid_col\u001b[0m\u001b[0;34m]\u001b[0m \u001b[0;34m==\u001b[0m \u001b[0m_id\u001b[0m\u001b[0;34m]\u001b[0m\u001b[0;34m.\u001b[0m\u001b[0mreset_index\u001b[0m\u001b[0;34m(\u001b[0m\u001b[0mdrop\u001b[0m \u001b[0;34m=\u001b[0m \u001b[0;32mTrue\u001b[0m\u001b[0;34m)\u001b[0m\u001b[0;34m\u001b[0m\u001b[0;34m\u001b[0m\u001b[0m\n\u001b[0m\u001b[1;32m     12\u001b[0m     \u001b[0mdf\u001b[0m \u001b[0;34m=\u001b[0m \u001b[0mdf\u001b[0m\u001b[0;34m.\u001b[0m\u001b[0msort_values\u001b[0m\u001b[0;34m(\u001b[0m\u001b[0;34m'reportingPeriodBeginningDateR'\u001b[0m\u001b[0;34m,\u001b[0m \u001b[0mascending\u001b[0m \u001b[0;34m=\u001b[0m \u001b[0;32mFalse\u001b[0m\u001b[0;34m)\u001b[0m\u001b[0;34m\u001b[0m\u001b[0;34m\u001b[0m\u001b[0m\n\u001b[1;32m     13\u001b[0m     \u001b[0;32mfor\u001b[0m \u001b[0mcol\u001b[0m \u001b[0;32min\u001b[0m \u001b[0msum_cols\u001b[0m\u001b[0;34m:\u001b[0m\u001b[0;34m\u001b[0m\u001b[0;34m\u001b[0m\u001b[0m\n",
      "\u001b[0;32m/anaconda3/envs/kn/lib/python3.7/site-packages/pandas/core/ops/common.py\u001b[0m in \u001b[0;36mnew_method\u001b[0;34m(self, other)\u001b[0m\n\u001b[1;32m     62\u001b[0m         \u001b[0mother\u001b[0m \u001b[0;34m=\u001b[0m \u001b[0mitem_from_zerodim\u001b[0m\u001b[0;34m(\u001b[0m\u001b[0mother\u001b[0m\u001b[0;34m)\u001b[0m\u001b[0;34m\u001b[0m\u001b[0;34m\u001b[0m\u001b[0m\n\u001b[1;32m     63\u001b[0m \u001b[0;34m\u001b[0m\u001b[0m\n\u001b[0;32m---> 64\u001b[0;31m         \u001b[0;32mreturn\u001b[0m \u001b[0mmethod\u001b[0m\u001b[0;34m(\u001b[0m\u001b[0mself\u001b[0m\u001b[0;34m,\u001b[0m \u001b[0mother\u001b[0m\u001b[0;34m)\u001b[0m\u001b[0;34m\u001b[0m\u001b[0;34m\u001b[0m\u001b[0m\n\u001b[0m\u001b[1;32m     65\u001b[0m \u001b[0;34m\u001b[0m\u001b[0m\n\u001b[1;32m     66\u001b[0m     \u001b[0;32mreturn\u001b[0m \u001b[0mnew_method\u001b[0m\u001b[0;34m\u001b[0m\u001b[0;34m\u001b[0m\u001b[0m\n",
      "\u001b[0;32m/anaconda3/envs/kn/lib/python3.7/site-packages/pandas/core/ops/__init__.py\u001b[0m in \u001b[0;36mwrapper\u001b[0;34m(self, other)\u001b[0m\n\u001b[1;32m    527\u001b[0m         \u001b[0mrvalues\u001b[0m \u001b[0;34m=\u001b[0m \u001b[0mextract_array\u001b[0m\u001b[0;34m(\u001b[0m\u001b[0mother\u001b[0m\u001b[0;34m,\u001b[0m \u001b[0mextract_numpy\u001b[0m\u001b[0;34m=\u001b[0m\u001b[0;32mTrue\u001b[0m\u001b[0;34m)\u001b[0m\u001b[0;34m\u001b[0m\u001b[0;34m\u001b[0m\u001b[0m\n\u001b[1;32m    528\u001b[0m \u001b[0;34m\u001b[0m\u001b[0m\n\u001b[0;32m--> 529\u001b[0;31m         \u001b[0mres_values\u001b[0m \u001b[0;34m=\u001b[0m \u001b[0mcomparison_op\u001b[0m\u001b[0;34m(\u001b[0m\u001b[0mlvalues\u001b[0m\u001b[0;34m,\u001b[0m \u001b[0mrvalues\u001b[0m\u001b[0;34m,\u001b[0m \u001b[0mop\u001b[0m\u001b[0;34m)\u001b[0m\u001b[0;34m\u001b[0m\u001b[0;34m\u001b[0m\u001b[0m\n\u001b[0m\u001b[1;32m    530\u001b[0m \u001b[0;34m\u001b[0m\u001b[0m\n\u001b[1;32m    531\u001b[0m         \u001b[0;32mreturn\u001b[0m \u001b[0m_construct_result\u001b[0m\u001b[0;34m(\u001b[0m\u001b[0mself\u001b[0m\u001b[0;34m,\u001b[0m \u001b[0mres_values\u001b[0m\u001b[0;34m,\u001b[0m \u001b[0mindex\u001b[0m\u001b[0;34m=\u001b[0m\u001b[0mself\u001b[0m\u001b[0;34m.\u001b[0m\u001b[0mindex\u001b[0m\u001b[0;34m,\u001b[0m \u001b[0mname\u001b[0m\u001b[0;34m=\u001b[0m\u001b[0mres_name\u001b[0m\u001b[0;34m)\u001b[0m\u001b[0;34m\u001b[0m\u001b[0;34m\u001b[0m\u001b[0m\n",
      "\u001b[0;32m/anaconda3/envs/kn/lib/python3.7/site-packages/pandas/core/ops/array_ops.py\u001b[0m in \u001b[0;36mcomparison_op\u001b[0;34m(left, right, op)\u001b[0m\n\u001b[1;32m    245\u001b[0m \u001b[0;34m\u001b[0m\u001b[0m\n\u001b[1;32m    246\u001b[0m     \u001b[0;32melif\u001b[0m \u001b[0mis_object_dtype\u001b[0m\u001b[0;34m(\u001b[0m\u001b[0mlvalues\u001b[0m\u001b[0;34m.\u001b[0m\u001b[0mdtype\u001b[0m\u001b[0;34m)\u001b[0m\u001b[0;34m:\u001b[0m\u001b[0;34m\u001b[0m\u001b[0;34m\u001b[0m\u001b[0m\n\u001b[0;32m--> 247\u001b[0;31m         \u001b[0mres_values\u001b[0m \u001b[0;34m=\u001b[0m \u001b[0mcomp_method_OBJECT_ARRAY\u001b[0m\u001b[0;34m(\u001b[0m\u001b[0mop\u001b[0m\u001b[0;34m,\u001b[0m \u001b[0mlvalues\u001b[0m\u001b[0;34m,\u001b[0m \u001b[0mrvalues\u001b[0m\u001b[0;34m)\u001b[0m\u001b[0;34m\u001b[0m\u001b[0;34m\u001b[0m\u001b[0m\n\u001b[0m\u001b[1;32m    248\u001b[0m \u001b[0;34m\u001b[0m\u001b[0m\n\u001b[1;32m    249\u001b[0m     \u001b[0;32melse\u001b[0m\u001b[0;34m:\u001b[0m\u001b[0;34m\u001b[0m\u001b[0;34m\u001b[0m\u001b[0m\n",
      "\u001b[0;32m/anaconda3/envs/kn/lib/python3.7/site-packages/pandas/core/ops/array_ops.py\u001b[0m in \u001b[0;36mcomp_method_OBJECT_ARRAY\u001b[0;34m(op, x, y)\u001b[0m\n\u001b[1;32m     55\u001b[0m         \u001b[0mresult\u001b[0m \u001b[0;34m=\u001b[0m \u001b[0mlibops\u001b[0m\u001b[0;34m.\u001b[0m\u001b[0mvec_compare\u001b[0m\u001b[0;34m(\u001b[0m\u001b[0mx\u001b[0m\u001b[0;34m.\u001b[0m\u001b[0mravel\u001b[0m\u001b[0;34m(\u001b[0m\u001b[0;34m)\u001b[0m\u001b[0;34m,\u001b[0m \u001b[0my\u001b[0m\u001b[0;34m,\u001b[0m \u001b[0mop\u001b[0m\u001b[0;34m)\u001b[0m\u001b[0;34m\u001b[0m\u001b[0;34m\u001b[0m\u001b[0m\n\u001b[1;32m     56\u001b[0m     \u001b[0;32melse\u001b[0m\u001b[0;34m:\u001b[0m\u001b[0;34m\u001b[0m\u001b[0;34m\u001b[0m\u001b[0m\n\u001b[0;32m---> 57\u001b[0;31m         \u001b[0mresult\u001b[0m \u001b[0;34m=\u001b[0m \u001b[0mlibops\u001b[0m\u001b[0;34m.\u001b[0m\u001b[0mscalar_compare\u001b[0m\u001b[0;34m(\u001b[0m\u001b[0mx\u001b[0m\u001b[0;34m.\u001b[0m\u001b[0mravel\u001b[0m\u001b[0;34m(\u001b[0m\u001b[0;34m)\u001b[0m\u001b[0;34m,\u001b[0m \u001b[0my\u001b[0m\u001b[0;34m,\u001b[0m \u001b[0mop\u001b[0m\u001b[0;34m)\u001b[0m\u001b[0;34m\u001b[0m\u001b[0;34m\u001b[0m\u001b[0m\n\u001b[0m\u001b[1;32m     58\u001b[0m     \u001b[0;32mreturn\u001b[0m \u001b[0mresult\u001b[0m\u001b[0;34m.\u001b[0m\u001b[0mreshape\u001b[0m\u001b[0;34m(\u001b[0m\u001b[0mx\u001b[0m\u001b[0;34m.\u001b[0m\u001b[0mshape\u001b[0m\u001b[0;34m)\u001b[0m\u001b[0;34m\u001b[0m\u001b[0;34m\u001b[0m\u001b[0m\n\u001b[1;32m     59\u001b[0m \u001b[0;34m\u001b[0m\u001b[0m\n",
      "\u001b[0;31mKeyboardInterrupt\u001b[0m: "
     ]
    }
   ],
   "source": [
    "holder = []\n",
    "counter = 0\n",
    "\n",
    "for _id in all_ids:\n",
    "    #print(_id)\n",
    "    counter = counter + 1\n",
    "    if counter in print_vals:\n",
    "        print(counter, counter/len(all_ids))\n",
    "        print('------------------------------')\n",
    "    \n",
    "    df = data[data[id_col] == _id].reset_index(drop = True)\n",
    "    df = df.sort_values('reportingPeriodBeginningDateR', ascending = False)\n",
    "    for col in sum_cols:\n",
    "        df['{}Sum'.format(col)] = df[col].sum()\n",
    "    \n",
    "    init_vals = list(df[status_col].unique())\n",
    "    inter = list(set(values).intersection(init_vals))\n",
    "    \n",
    "    if len(inter) > 0:\n",
    "        n = df[status_col].where(df[status_col].isin(values)).last_valid_index()\n",
    "        sub = df[n:len(df)]\n",
    "        sub.reset_index(drop = True, inplace = True)\n",
    "        holder.append(sub)\n",
    "    else:\n",
    "        df.reset_index(drop = True, inplace = True)\n",
    "        holder.append(df)\n"
   ]
  },
  {
   "cell_type": "code",
   "execution_count": null,
   "metadata": {},
   "outputs": [],
   "source": [
    "master = pd.concat(holder)\n"
   ]
  },
  {
   "cell_type": "code",
   "execution_count": null,
   "metadata": {},
   "outputs": [],
   "source": [
    "master = master.reset_index(drop = True)"
   ]
  },
  {
   "cell_type": "markdown",
   "metadata": {},
   "source": [
    "### Add target"
   ]
  },
  {
   "cell_type": "code",
   "execution_count": null,
   "metadata": {},
   "outputs": [],
   "source": [
    "master['previousRemainingTerm'] = master['remainingTermToMaturityNumber'].shift(-1)"
   ]
  },
  {
   "cell_type": "code",
   "execution_count": null,
   "metadata": {},
   "outputs": [],
   "source": [
    "def get_target(row):\n",
    "    \n",
    "    \"\"\"\n",
    "    Set target var\n",
    "    \"\"\"\n",
    "    \n",
    "    init = str(row['accountStatus'])\n",
    "    remaining = row['previousRemainingTerm']\n",
    "    \n",
    "    if init == 'Charged-off':\n",
    "        res = 'Charged-off'\n",
    "        return res\n",
    "\n",
    "    if init == 'Prepaid or Matured' and remaining > 0:\n",
    "        res = 'Prepaid'\n",
    "        return res\n",
    "    \n",
    "    if init == 'Prepaid or Matured' and remaining < 1:\n",
    "        res = 'Closed'\n",
    "        return res\n",
    "    \n",
    "    if init == 'Unavailable':\n",
    "        res = 'Active or other'\n",
    "        return res\n",
    "    "
   ]
  },
  {
   "cell_type": "code",
   "execution_count": null,
   "metadata": {},
   "outputs": [],
   "source": [
    "master['target'] = master.apply(get_target, axis = 1)"
   ]
  },
  {
   "cell_type": "code",
   "execution_count": null,
   "metadata": {},
   "outputs": [],
   "source": [
    "master['target'].value_counts()"
   ]
  },
  {
   "cell_type": "markdown",
   "metadata": {},
   "source": [
    "### Export"
   ]
  },
  {
   "cell_type": "code",
   "execution_count": null,
   "metadata": {},
   "outputs": [],
   "source": [
    "e_folder = 'data/transaction/'\n",
    "e_file = '{} transaction prepared.csv'.format(term)\n",
    "e_path = e_folder + e_file\n",
    "e_path"
   ]
  },
  {
   "cell_type": "code",
   "execution_count": null,
   "metadata": {},
   "outputs": [],
   "source": [
    "master.to_csv(e_path, index = False)"
   ]
  },
  {
   "cell_type": "code",
   "execution_count": null,
   "metadata": {},
   "outputs": [],
   "source": [
    "print('continue...')"
   ]
  },
  {
   "cell_type": "code",
   "execution_count": null,
   "metadata": {},
   "outputs": [],
   "source": []
  },
  {
   "cell_type": "markdown",
   "metadata": {},
   "source": [
    "### End"
   ]
  }
 ],
 "metadata": {
  "kernelspec": {
   "display_name": "Python 3",
   "language": "python",
   "name": "python3"
  },
  "language_info": {
   "codemirror_mode": {
    "name": "ipython",
    "version": 3
   },
   "file_extension": ".py",
   "mimetype": "text/x-python",
   "name": "python",
   "nbconvert_exporter": "python",
   "pygments_lexer": "ipython3",
   "version": "3.7.3"
  }
 },
 "nbformat": 4,
 "nbformat_minor": 4
}
