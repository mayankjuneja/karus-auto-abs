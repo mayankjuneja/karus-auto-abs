{
 "cells": [
  {
   "cell_type": "markdown",
   "metadata": {},
   "source": [
    "\n",
    "\n",
    "### Load libs"
   ]
  },
  {
   "cell_type": "code",
   "execution_count": 1,
   "metadata": {},
   "outputs": [],
   "source": [
    "import pandas as pd\n",
    "import io\n",
    "import requests\n",
    "import json\n",
    "import numpy as np\n",
    "import time\n",
    "import os\n",
    "import re"
   ]
  },
  {
   "cell_type": "code",
   "execution_count": 2,
   "metadata": {},
   "outputs": [
    {
     "name": "stderr",
     "output_type": "stream",
     "text": [
      "/anaconda3/envs/kn/lib/python3.7/site-packages/ipykernel_launcher.py:4: FutureWarning: Passing a negative integer is deprecated in version 1.0 and will not be supported in future version. Instead, use None to not limit the column width.\n",
      "  after removing the cwd from sys.path.\n"
     ]
    }
   ],
   "source": [
    "n = 500\n",
    "pd.set_option('display.max_columns', n)\n",
    "pd.set_option('display.max_rows', n)\n",
    "pd.set_option('display.max_colwidth', -1)"
   ]
  },
  {
   "cell_type": "markdown",
   "metadata": {},
   "source": [
    "### Load data"
   ]
  },
  {
   "cell_type": "code",
   "execution_count": 3,
   "metadata": {},
   "outputs": [],
   "source": [
    "# detailed json\n",
    "folder = 'data/json/securitizations/detailed/'\n",
    "files = [f for f in os.listdir(folder) if '.json' in f and '._' not in f]\n",
    "files.sort()\n",
    "file = files[-1]\n",
    "path = folder + file\n",
    "with open(path) as f:\n",
    "    files_dict = json.load(f)\n",
    "keys = list(files_dict.keys())\n",
    "use_keys = [k for k in keys if k != 'total_securitizations']\n"
   ]
  },
  {
   "cell_type": "markdown",
   "metadata": {},
   "source": [
    "### Grab data"
   ]
  },
  {
   "cell_type": "code",
   "execution_count": 4,
   "metadata": {},
   "outputs": [
    {
     "data": {
      "text/plain": [
       "'AmeriCredit Automobile Receivables Trust 2017-2 Data Tape.csv'"
      ]
     },
     "execution_count": 4,
     "metadata": {},
     "output_type": "execute_result"
    }
   ],
   "source": [
    "term = 'AmeriCredit Automobile Receivables Trust 2017-2 Data Tape'\n",
    "securitization = [file for file in use_keys if term in file][0]\n",
    "securitization"
   ]
  },
  {
   "cell_type": "code",
   "execution_count": 5,
   "metadata": {},
   "outputs": [],
   "source": [
    "sub_dict = files_dict[securitization]"
   ]
  },
  {
   "cell_type": "code",
   "execution_count": 6,
   "metadata": {},
   "outputs": [],
   "source": [
    "s_keys = list(sub_dict.keys())\n",
    "s_keys = [k for k in s_keys if k != 'releases']\n"
   ]
  },
  {
   "cell_type": "code",
   "execution_count": 7,
   "metadata": {},
   "outputs": [
    {
     "data": {
      "text/plain": [
       "46"
      ]
     },
     "execution_count": 7,
     "metadata": {},
     "output_type": "execute_result"
    }
   ],
   "source": [
    "use_len = len(s_keys)\n",
    "use_len"
   ]
  },
  {
   "cell_type": "markdown",
   "metadata": {},
   "source": [
    "### Combine data tapes"
   ]
  },
  {
   "cell_type": "code",
   "execution_count": 8,
   "metadata": {},
   "outputs": [
    {
     "name": "stdout",
     "output_type": "stream",
     "text": [
      "reading 2021.01.22_AmeriCredit Automobile Receivables Trust 2017-2 Data Tape.csv\n",
      "https://finsight.com/api/download-csv?fileId=74204\n",
      "0.022\n",
      "-------------------------------------\n",
      "reading 2020.12.22_AmeriCredit Automobile Receivables Trust 2017-2 Data Tape.csv\n",
      "https://finsight.com/api/download-csv?fileId=72279\n",
      "0.043\n",
      "-------------------------------------\n",
      "reading 2020.11.23_AmeriCredit Automobile Receivables Trust 2017-2 Data Tape.csv\n",
      "https://finsight.com/api/download-csv?fileId=70218\n",
      "0.065\n",
      "-------------------------------------\n",
      "reading 2020.10.23_AmeriCredit Automobile Receivables Trust 2017-2 Data Tape.csv\n",
      "https://finsight.com/api/download-csv?fileId=68327\n",
      "0.087\n",
      "-------------------------------------\n",
      "reading 2020.09.23_AmeriCredit Automobile Receivables Trust 2017-2 Data Tape.csv\n",
      "https://finsight.com/api/download-csv?fileId=65571\n",
      "0.109\n",
      "-------------------------------------\n",
      "reading 2020.08.24_AmeriCredit Automobile Receivables Trust 2017-2 Data Tape.csv\n",
      "https://finsight.com/api/download-csv?fileId=63166\n",
      "0.13\n",
      "-------------------------------------\n",
      "reading 2020.07.23_AmeriCredit Automobile Receivables Trust 2017-2 Data Tape.csv\n",
      "https://finsight.com/api/download-csv?fileId=61143\n",
      "0.152\n",
      "-------------------------------------\n",
      "reading 2020.06.23_AmeriCredit Automobile Receivables Trust 2017-2 Data Tape.csv\n",
      "https://finsight.com/api/download-csv?fileId=58814\n",
      "0.174\n",
      "-------------------------------------\n",
      "reading 2020.05.22_AmeriCredit Automobile Receivables Trust 2017-2 Data Tape.csv\n",
      "https://finsight.com/api/download-csv?fileId=56585\n",
      "0.196\n",
      "-------------------------------------\n",
      "reading 2020.04.23_AmeriCredit Automobile Receivables Trust 2017-2 Data Tape.csv\n",
      "https://finsight.com/api/download-csv?fileId=54582\n",
      "0.217\n",
      "-------------------------------------\n",
      "reading 2020.03.23_AmeriCredit Automobile Receivables Trust 2017-2 Data Tape.csv\n",
      "https://finsight.com/api/download-csv?fileId=52866\n",
      "0.239\n",
      "-------------------------------------\n",
      "reading 2020.02.21_AmeriCredit Automobile Receivables Trust 2017-2 Data Tape.csv\n",
      "https://finsight.com/api/download-csv?fileId=50768\n",
      "0.261\n",
      "-------------------------------------\n",
      "reading 2020.01.23_AmeriCredit Automobile Receivables Trust 2017-2 Data Tape.csv\n",
      "https://finsight.com/api/download-csv?fileId=48553\n",
      "0.283\n",
      "-------------------------------------\n",
      "reading 2019.12.23_AmeriCredit Automobile Receivables Trust 2017-2 Data Tape.csv\n",
      "https://finsight.com/api/download-csv?fileId=46782\n",
      "0.304\n",
      "-------------------------------------\n",
      "reading 2019.11.22_AmeriCredit Automobile Receivables Trust 2017-2 Data Tape.csv\n",
      "https://finsight.com/api/download-csv?fileId=44477\n",
      "0.326\n",
      "-------------------------------------\n",
      "reading 2019.10.23_AmeriCredit Automobile Receivables Trust 2017-2 Data Tape.csv\n",
      "https://finsight.com/api/download-csv?fileId=42075\n",
      "0.348\n",
      "-------------------------------------\n",
      "reading 2019.09.23_AmeriCredit Automobile Receivables Trust 2017-2 Data Tape.csv\n",
      "https://finsight.com/api/download-csv?fileId=40014\n",
      "0.37\n",
      "-------------------------------------\n",
      "reading 2019.08.23_AmeriCredit Automobile Receivables Trust 2017-2 Data Tape.csv\n",
      "https://finsight.com/api/download-csv?fileId=38466\n",
      "0.391\n",
      "-------------------------------------\n",
      "reading 2019.07.23_AmeriCredit Automobile Receivables Trust 2017-2 Data Tape.csv\n",
      "https://finsight.com/api/download-csv?fileId=36642\n",
      "0.413\n",
      "-------------------------------------\n",
      "reading 2019.06.24_AmeriCredit Automobile Receivables Trust 2017-2 Data Tape.csv\n",
      "https://finsight.com/api/download-csv?fileId=34902\n",
      "0.435\n",
      "-------------------------------------\n",
      "reading 2019.05.23_AmeriCredit Automobile Receivables Trust 2017-2 Data Tape.csv\n",
      "https://finsight.com/api/download-csv?fileId=33238\n",
      "0.457\n",
      "-------------------------------------\n",
      "reading 2019.04.23_AmeriCredit Automobile Receivables Trust 2017-2 Data Tape.csv\n",
      "https://finsight.com/api/download-csv?fileId=31532\n",
      "0.478\n",
      "-------------------------------------\n",
      "reading 2019.03.25_AmeriCredit Automobile Receivables Trust 2017-2 Data Tape.csv\n",
      "https://finsight.com/api/download-csv?fileId=30255\n",
      "0.5\n",
      "-------------------------------------\n",
      "reading 2019.02.22_AmeriCredit Automobile Receivables Trust 2017-2 Data Tape.csv\n",
      "https://finsight.com/api/download-csv?fileId=28467\n",
      "0.522\n",
      "-------------------------------------\n",
      "reading 2019.01.23_AmeriCredit Automobile Receivables Trust 2017-2 Data Tape.csv\n",
      "https://finsight.com/api/download-csv?fileId=26663\n",
      "0.543\n",
      "-------------------------------------\n",
      "reading 2018.12.21_AmeriCredit Automobile Receivables Trust 2017-2 Data Tape.csv\n",
      "https://finsight.com/api/download-csv?fileId=25548\n",
      "0.565\n",
      "-------------------------------------\n",
      "reading 2018.11.21_AmeriCredit Automobile Receivables Trust 2017-2 Data Tape.csv\n",
      "https://finsight.com/api/download-csv?fileId=24427\n",
      "0.587\n",
      "-------------------------------------\n",
      "reading 2018.10.23_AmeriCredit Automobile Receivables Trust 2017-2 Data Tape.csv\n",
      "https://finsight.com/api/download-csv?fileId=22958\n",
      "0.609\n",
      "-------------------------------------\n",
      "reading 2018.09.24_AmeriCredit Automobile Receivables Trust 2017-2 Data Tape.csv\n",
      "https://finsight.com/api/download-csv?fileId=21564\n",
      "0.63\n",
      "-------------------------------------\n",
      "reading 2018.08.23_AmeriCredit Automobile Receivables Trust 2017-2 Data Tape.csv\n",
      "https://finsight.com/api/download-csv?fileId=20344\n",
      "0.652\n",
      "-------------------------------------\n",
      "reading 2018.07.23_AmeriCredit Automobile Receivables Trust 2017-2 Data Tape.csv\n",
      "https://finsight.com/api/download-csv?fileId=19223\n",
      "0.674\n",
      "-------------------------------------\n",
      "reading 2018.06.25_AmeriCredit Automobile Receivables Trust 2017-2 Data Tape.csv\n",
      "https://finsight.com/api/download-csv?fileId=18138\n",
      "0.696\n",
      "-------------------------------------\n",
      "reading 2018.05.23_AmeriCredit Automobile Receivables Trust 2017-2 Data Tape.csv\n",
      "https://finsight.com/api/download-csv?fileId=16785\n",
      "0.717\n",
      "-------------------------------------\n",
      "reading 2018.04.23_AmeriCredit Automobile Receivables Trust 2017-2 Data Tape.csv\n",
      "https://finsight.com/api/download-csv?fileId=15685\n",
      "0.739\n",
      "-------------------------------------\n",
      "reading 2018.03.23_AmeriCredit Automobile Receivables Trust 2017-2 Data Tape.csv\n",
      "https://finsight.com/api/download-csv?fileId=14640\n",
      "0.761\n",
      "-------------------------------------\n",
      "reading 2018.02.23_AmeriCredit Automobile Receivables Trust 2017-2 Data Tape.csv\n",
      "https://finsight.com/api/download-csv?fileId=13801\n",
      "0.783\n",
      "-------------------------------------\n",
      "reading 2018.01.23_AmeriCredit Automobile Receivables Trust 2017-2 Data Tape.csv\n",
      "https://finsight.com/api/download-csv?fileId=12889\n",
      "0.804\n",
      "-------------------------------------\n",
      "reading 2017.12.26_AmeriCredit Automobile Receivables Trust 2017-2 Data Tape.csv\n",
      "https://finsight.com/api/download-csv?fileId=12133\n",
      "0.826\n",
      "-------------------------------------\n",
      "reading 2017.11.22_AmeriCredit Automobile Receivables Trust 2017-2 Data Tape.csv\n",
      "https://finsight.com/api/download-csv?fileId=11309\n",
      "0.848\n",
      "-------------------------------------\n",
      "reading 2017.10.23_AmeriCredit Automobile Receivables Trust 2017-2 Data Tape.csv\n",
      "https://finsight.com/api/download-csv?fileId=10341\n"
     ]
    },
    {
     "name": "stderr",
     "output_type": "stream",
     "text": [
      "/anaconda3/envs/kn/lib/python3.7/site-packages/IPython/core/interactiveshell.py:3146: DtypeWarning: Columns (26,38) have mixed types.Specify dtype option on import or set low_memory=False.\n",
      "  interactivity=interactivity, compiler=compiler, result=result)\n"
     ]
    },
    {
     "name": "stdout",
     "output_type": "stream",
     "text": [
      "0.87\n",
      "-------------------------------------\n",
      "reading 2017.09.25_AmeriCredit Automobile Receivables Trust 2017-2 Data Tape.csv\n",
      "https://finsight.com/api/download-csv?fileId=9512\n"
     ]
    },
    {
     "name": "stderr",
     "output_type": "stream",
     "text": [
      "/anaconda3/envs/kn/lib/python3.7/site-packages/IPython/core/interactiveshell.py:3146: DtypeWarning: Columns (26,44,45,48) have mixed types.Specify dtype option on import or set low_memory=False.\n",
      "  interactivity=interactivity, compiler=compiler, result=result)\n"
     ]
    },
    {
     "name": "stdout",
     "output_type": "stream",
     "text": [
      "0.891\n",
      "-------------------------------------\n",
      "reading 2017.08.23_AmeriCredit Automobile Receivables Trust 2017-2 Data Tape.csv\n",
      "https://finsight.com/api/download-csv?fileId=8738\n",
      "0.913\n",
      "-------------------------------------\n",
      "reading 2017.07.24_AmeriCredit Automobile Receivables Trust 2017-2 Data Tape.csv\n",
      "https://finsight.com/api/download-csv?fileId=8131\n",
      "0.935\n",
      "-------------------------------------\n",
      "reading 2017.06.23_AmeriCredit Automobile Receivables Trust 2017-2 Data Tape.csv\n",
      "https://finsight.com/api/download-csv?fileId=7532\n",
      "0.957\n",
      "-------------------------------------\n",
      "reading 2017.06.23_AmeriCredit Automobile Receivables Trust 2017-2 Data Tape.csv_1\n",
      "https://finsight.com/api/download-csv?fileId=7528\n",
      "0.978\n",
      "-------------------------------------\n",
      "reading 2017.05.02_AmeriCredit Automobile Receivables Trust 2017-2 Data Tape.csv\n",
      "https://finsight.com/api/download-csv?fileId=6532\n"
     ]
    },
    {
     "name": "stderr",
     "output_type": "stream",
     "text": [
      "/anaconda3/envs/kn/lib/python3.7/site-packages/IPython/core/interactiveshell.py:3146: DtypeWarning: Columns (26,36,38,39,44,45,46,48,57) have mixed types.Specify dtype option on import or set low_memory=False.\n",
      "  interactivity=interactivity, compiler=compiler, result=result)\n"
     ]
    },
    {
     "name": "stdout",
     "output_type": "stream",
     "text": [
      "1.0\n",
      "-------------------------------------\n"
     ]
    }
   ],
   "source": [
    "collected = []\n",
    "broke = []\n",
    "master_list = []\n",
    "for file in s_keys:\n",
    "    print('reading {}'.format(file))\n",
    "    collected.append(file)\n",
    "    col_len = len(collected)\n",
    "    url = sub_dict[file]\n",
    "    print(url)\n",
    "    try:\n",
    "        init = requests.get(url).content\n",
    "        df = pd.read_csv(io.StringIO(init.decode('utf-8')))\n",
    "        df['dataset_name'] = file.split('.csv')[0]\n",
    "        master_list.append(df)\n",
    "        print(round(col_len / use_len, 3))\n",
    "    except:\n",
    "        broke.append(file)\n",
    "        print('ERROR!!!!! {}'.format(file))\n",
    "    time.sleep(2)\n",
    "    print('-------------------------------------')\n",
    "    "
   ]
  },
  {
   "cell_type": "markdown",
   "metadata": {},
   "source": [
    "### Quick processing"
   ]
  },
  {
   "cell_type": "code",
   "execution_count": 9,
   "metadata": {},
   "outputs": [
    {
     "name": "stdout",
     "output_type": "stream",
     "text": [
      "1\n",
      "2\n",
      "3\n",
      "4\n",
      "5\n",
      "6\n",
      "7\n",
      "8\n",
      "9\n",
      "10\n",
      "11\n",
      "12\n",
      "13\n",
      "14\n",
      "15\n",
      "16\n",
      "17\n",
      "18\n",
      "19\n",
      "20\n",
      "21\n",
      "22\n",
      "23\n",
      "24\n",
      "25\n",
      "26\n",
      "27\n",
      "28\n",
      "29\n",
      "30\n",
      "31\n",
      "32\n",
      "33\n",
      "34\n",
      "35\n",
      "36\n",
      "37\n",
      "38\n",
      "39\n",
      "40\n",
      "41\n",
      "42\n",
      "43\n",
      "44\n",
      "45\n",
      "46\n"
     ]
    }
   ],
   "source": [
    "master_df = pd.DataFrame()\n",
    "count = 0\n",
    "for df in master_list:\n",
    "    count = count + 1\n",
    "    print(count)\n",
    "    master_df = master_df.append(df)\n",
    "    "
   ]
  },
  {
   "cell_type": "code",
   "execution_count": 10,
   "metadata": {},
   "outputs": [],
   "source": [
    "master_df = master_df.reset_index(drop = True)\n"
   ]
  },
  {
   "cell_type": "code",
   "execution_count": 11,
   "metadata": {},
   "outputs": [
    {
     "data": {
      "text/plain": [
       "574.4341789790486"
      ]
     },
     "execution_count": 11,
     "metadata": {},
     "output_type": "execute_result"
    }
   ],
   "source": [
    "master_df['obligorCreditScore'].replace('None', np.nan, inplace = True)\n",
    "master_df['obligorCreditScore'] = master_df['obligorCreditScore'].astype(float)\n",
    "master_df['obligorCreditScore'].mean()"
   ]
  },
  {
   "cell_type": "code",
   "execution_count": 12,
   "metadata": {},
   "outputs": [
    {
     "data": {
      "text/plain": [
       "(2152316, 73)"
      ]
     },
     "execution_count": 12,
     "metadata": {},
     "output_type": "execute_result"
    }
   ],
   "source": [
    "master_df.shape"
   ]
  },
  {
   "cell_type": "markdown",
   "metadata": {},
   "source": [
    "### Export"
   ]
  },
  {
   "cell_type": "code",
   "execution_count": 13,
   "metadata": {},
   "outputs": [
    {
     "data": {
      "text/plain": [
       "'data/transaction/AmeriCredit Automobile Receivables Trust 2017-2 Data Tape.csv'"
      ]
     },
     "execution_count": 13,
     "metadata": {},
     "output_type": "execute_result"
    }
   ],
   "source": [
    "e_folder = 'data/transaction/'\n",
    "e_file = '{}.csv'.format(term)\n",
    "e_path = e_folder + e_file\n",
    "e_path"
   ]
  },
  {
   "cell_type": "code",
   "execution_count": 14,
   "metadata": {},
   "outputs": [],
   "source": [
    "master_df.to_csv(e_path, index = False)"
   ]
  },
  {
   "cell_type": "code",
   "execution_count": 15,
   "metadata": {},
   "outputs": [
    {
     "name": "stdout",
     "output_type": "stream",
     "text": [
      "complete...\n"
     ]
    }
   ],
   "source": [
    "print('complete...')"
   ]
  },
  {
   "cell_type": "code",
   "execution_count": null,
   "metadata": {},
   "outputs": [],
   "source": []
  },
  {
   "cell_type": "markdown",
   "metadata": {},
   "source": [
    "### End"
   ]
  }
 ],
 "metadata": {
  "kernelspec": {
   "display_name": "Python 3",
   "language": "python",
   "name": "python3"
  },
  "language_info": {
   "codemirror_mode": {
    "name": "ipython",
    "version": 3
   },
   "file_extension": ".py",
   "mimetype": "text/x-python",
   "name": "python",
   "nbconvert_exporter": "python",
   "pygments_lexer": "ipython3",
   "version": "3.7.3"
  }
 },
 "nbformat": 4,
 "nbformat_minor": 4
}
