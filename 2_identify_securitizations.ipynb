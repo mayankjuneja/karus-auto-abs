{
 "cells": [
  {
   "cell_type": "markdown",
   "metadata": {},
   "source": [
    "\n",
    "\n",
    "### Load libs"
   ]
  },
  {
   "cell_type": "code",
   "execution_count": 1,
   "metadata": {},
   "outputs": [],
   "source": [
    "import pandas as pd\n",
    "import io\n",
    "import requests\n",
    "import json\n",
    "import numpy as np\n",
    "import time\n",
    "import os\n",
    "import re\n",
    "from datetime import date\n",
    "from project_functions import get_originator\n",
    "today = date.today()"
   ]
  },
  {
   "cell_type": "code",
   "execution_count": 2,
   "metadata": {},
   "outputs": [
    {
     "name": "stderr",
     "output_type": "stream",
     "text": [
      "/anaconda3/envs/kn/lib/python3.7/site-packages/ipykernel_launcher.py:4: FutureWarning: Passing a negative integer is deprecated in version 1.0 and will not be supported in future version. Instead, use None to not limit the column width.\n",
      "  after removing the cwd from sys.path.\n"
     ]
    }
   ],
   "source": [
    "n = 500\n",
    "pd.set_option('display.max_columns', n)\n",
    "pd.set_option('display.max_rows', n)\n",
    "pd.set_option('display.max_colwidth', -1)"
   ]
  },
  {
   "cell_type": "markdown",
   "metadata": {},
   "source": [
    "### Load data"
   ]
  },
  {
   "cell_type": "code",
   "execution_count": 3,
   "metadata": {},
   "outputs": [],
   "source": [
    "folder = 'data/json/securitizations/'\n",
    "files = [f for f in os.listdir(folder) if '.json' in f and '._' not in f]\n",
    "files.sort()\n",
    "file = files[-1]\n",
    "path = folder + file"
   ]
  },
  {
   "cell_type": "code",
   "execution_count": 4,
   "metadata": {},
   "outputs": [
    {
     "data": {
      "text/plain": [
       "'all files 2021-03-02.json'"
      ]
     },
     "execution_count": 4,
     "metadata": {},
     "output_type": "execute_result"
    }
   ],
   "source": [
    "file"
   ]
  },
  {
   "cell_type": "code",
   "execution_count": 5,
   "metadata": {},
   "outputs": [],
   "source": [
    "with open(path) as f:\n",
    "    files_dict = json.load(f)\n",
    "    "
   ]
  },
  {
   "cell_type": "code",
   "execution_count": 6,
   "metadata": {},
   "outputs": [],
   "source": [
    "keys = list(files_dict.keys())\n",
    "sec_keys = list(set([k.split('_')[1] for k in keys]))\n"
   ]
  },
  {
   "cell_type": "code",
   "execution_count": 7,
   "metadata": {},
   "outputs": [
    {
     "data": {
      "text/plain": [
       "['World Omni Auto Receivables Trust 2017-B Data Tape.csv',\n",
       " 'GM Financial Consumer Automobile Receivables Trust 2020-2 Data Tape.csv',\n",
       " 'Toyota Auto Receivables 2018-B Owner Trust Data Tape.csv',\n",
       " 'Nissan Auto Receivables 2019-B Owner Trust Data Tape.csv',\n",
       " 'Ally Auto Receivables Trust 2019-3 Data Tape.csv',\n",
       " 'CarMax Auto Owner Trust 2019-1 Data Tape.csv',\n",
       " 'Drive Auto Receivables Trust 2018-1 Data Tape.csv',\n",
       " 'Wells Fargo Commercial Mortgage Trust 2017-RC1 Data Tape.csv',\n",
       " 'BMW Vehicle Owner Trust 2020-A Data Tape.csv',\n",
       " 'GM Financial Consumer Automobile Receivables Trust 2018-2 Data Tape.csv',\n",
       " 'World Omni Automobile Lease Securitization Trust 2018-A Data Tape.csv',\n",
       " 'Fifth Third Auto Trust 2019-1 Data Tape.csv',\n",
       " 'GM Financial Consumer Automobile Receivables Trust 2019-4 Data Tape.csv',\n",
       " 'Volkswagen Auto Loan Enhanced Trust 2020-1 Data Tape.csv',\n",
       " 'Honda Auto Receivables 2017-4 Owner Trust Data Tape.csv',\n",
       " 'Nissan Auto Receivables 2019-A Owner Trust Data Tape.csv',\n",
       " 'Ally Auto Receivables Trust 2019-2 Data Tape.csv',\n",
       " 'Nissan Auto Lease Trust 2020-B Data Tape.csv',\n",
       " 'Mercedes-Benz Auto Lease Trust 2019-A Data Tape.csv',\n",
       " 'Mercedes-Benz Auto Lease Trust 2021-A Data Tape.csv',\n",
       " 'GM Financial Automobile Leasing Trust 2018-3 Data Tape.csv',\n",
       " 'Honda Auto Receivables 2017-2 Owner Trust Data Tape.csv',\n",
       " 'GM Financial Consumer Automobile Receivables Trust 2019-2 Data Tape.csv',\n",
       " 'Honda Auto Receivables 2020-2 Owner Trust Data Tape.csv',\n",
       " 'World Omni Auto Receivables Trust 2019-A Data Tape.csv',\n",
       " 'Nissan Auto Lease Trust 2019-A Data Tape.csv',\n",
       " 'Capital One Prime Auto Receivables Trust 2020-1 Data Tape.csv',\n",
       " 'CarMax Auto Owner Trust 2018-4 Data Tape.csv',\n",
       " 'World Omni Auto Receivables Trust 2020-C Data Tape.csv',\n",
       " 'Hyundai Auto Receivables Trust 2018-A Data Tape.csv',\n",
       " 'AmeriCredit Automobile Receivables Trust 2017-3 Data Tape.csv',\n",
       " 'Santander Drive Auto Receivables Trust 2018-1 Data Tape.csv',\n",
       " 'Santander Drive Auto Receivables Trust 2020-2 Data Tape.csv',\n",
       " 'Drive Auto Receivables Trust 2019-4 Data Tape.csv',\n",
       " 'BMW Vehicle Lease Trust 2017-2 Data Tape.csv',\n",
       " 'Mercedes-Benz Auto Lease Trust 2017-A Data Tape.csv',\n",
       " 'Nissan Auto Lease Trust 2017-B Data Tape.csv',\n",
       " 'CarMax Auto Owner Trust 2021-1 Data Tape.csv',\n",
       " 'California Republic Funding LLC Data Tape.csv',\n",
       " 'AmeriCredit Automobile Receivables Trust 2018-2 Data Tape.csv',\n",
       " 'Ford Credit Auto Lease Trust 2020-A Data Tape.csv',\n",
       " 'BMW Vehicle Owner Trust 2018-A Data Tape.csv',\n",
       " 'AmeriCredit Automobile Receivables Trust 2017-1 Data Tape.csv',\n",
       " 'World Omni Auto Receivables Trust 2018-A Data Tape.csv',\n",
       " 'BMW Vehicle Lease Trust 2021-1 Data Tape.csv',\n",
       " 'AmeriCredit Automobile Receivables Trust 2019-3 Data Tape.csv',\n",
       " 'Harley-Davidson Motorcycle Trust 2019-A Data Tape.csv',\n",
       " 'AmeriCredit Automobile Receivables Trust 2017-2 Data Tape.csv',\n",
       " 'Nissan Auto Lease Trust 2018-A Data Tape.csv',\n",
       " 'Toyota Auto Receivables 2020-D Owner Trust Data Tape.csv',\n",
       " 'GM Financial Consumer Automobile Receivables Trust 2018-4 Data Tape.csv',\n",
       " 'Nissan Auto Receivables 2017-A Owner Trust Data Tape.csv',\n",
       " 'Santander Drive Auto Receivables Trust 2019-1 Data Tape.csv',\n",
       " 'Ally Auto Receivables Trust 2018-3 Data Tape.csv',\n",
       " 'Mercedes-Benz Auto Receivables Trust 2019-1 Data Tape.csv',\n",
       " 'Ford Credit Auto Owner Trust 2019-A Data Tape.csv',\n",
       " 'Honda Auto Receivables 2018-2 Owner Trust Data Tape.csv',\n",
       " 'Toyota Auto Receivables 2021-A Owner Trust Data Tape.csv',\n",
       " 'World Omni Auto Receivables Trust 2019-B Data Tape.csv',\n",
       " 'Ally Auto Receivables Trust 2018-1 Data Tape.csv',\n",
       " 'Volkswagen Auto Lease Trust 2019-A Data Tape.csv',\n",
       " 'Ford Credit Auto Owner Trust 2018-A Data Tape.csv',\n",
       " 'Nissan Auto Lease Trust 2019-B Data Tape.csv',\n",
       " 'World Omni Auto Receivables Trust 2018-D Data Tape.csv',\n",
       " 'World Omni Automobile Lease Securitization Trust 2020-A Data Tape.csv',\n",
       " 'Mercedes-Benz Auto Receivables Trust 2018-1 Data Tape.csv',\n",
       " 'Drive Auto Receivables Trust 2017-1 Data Tape.csv',\n",
       " 'Santander Drive Auto Receivables Trust 2018-3 Data Tape.csv',\n",
       " 'Volkswagen Auto Lease Trust 2020-A Data Tape.csv',\n",
       " 'Honda Auto Receivables 2021-1 Owner Trust Data Tape.csv',\n",
       " 'GM Financial Automobile Leasing Trust 2021-1 Data Tape.csv',\n",
       " 'Toyota Auto Receivables 2019-C Owner Trust Data Tape.csv',\n",
       " 'Drive Auto Receivables Trust 2018-2 Data Tape.csv',\n",
       " 'GM Financial Consumer Automobile Receivables Trust 2019-1 Data Tape.csv',\n",
       " 'Ford Credit Auto Lease Trust 2018-B Data Tape.csv',\n",
       " 'GM Financial Consumer Automobile Receivables Trust 2020-1 Data Tape.csv',\n",
       " 'Mercedes-Benz Auto Lease Trust 2019-B Data Tape.csv',\n",
       " 'Ford Credit Auto Owner Trust 2017-B Data Tape.csv',\n",
       " 'AmeriCredit Automobile Receivables Trust 2019-2 Data Tape.csv',\n",
       " 'California Republic Auto Receivables Trust 2018-1 Data Tape.csv',\n",
       " 'CarMax Auto Owner Trust 2019-4 Data Tape.csv',\n",
       " 'BMW Vehicle Lease Trust 2017-1 Data Tape.csv',\n",
       " 'Drive Auto Receivables Trust 2017-3 Data Tape.csv',\n",
       " 'Ford Credit Auto Lease Trust 2019-A Data Tape.csv',\n",
       " 'California Republic Auto Receivables Trust 2017-1 Data Tape.csv',\n",
       " 'Harley-Davidson Motorcycle Trust 2021-A Data Tape.csv',\n",
       " 'Toyota Auto Receivables 2018-C Owner Trust Data Tape.csv',\n",
       " 'Honda Auto Receivables 2018-1 Owner Trust Data Tape.csv',\n",
       " 'Toyota Auto Receivables 2017-C Owner Trust Data Tape.csv',\n",
       " 'Ford Credit Auto Owner Trust 2020-B Data Tape.csv',\n",
       " 'World Omni Auto Receivables Trust 2018-B Data Tape.csv',\n",
       " 'Carvana Auto Receivables Trust 2020-P1 Data Tape.csv',\n",
       " 'CarMax Auto Owner Trust 2019-3 Data Tape.csv',\n",
       " 'CarMax Auto Owner Trust 2020-4 Data Tape.csv',\n",
       " 'AmeriCredit Automobile Receivables Trust 2019-1 Data Tape.csv',\n",
       " 'Mercedes-Benz Auto Receivables Trust 2020-1 Data Tape.csv',\n",
       " 'Capital One Prime Auto Receivables Trust 2019-2 Data Tape.csv',\n",
       " 'Ford Credit Auto Owner Trust 2017-A Data Tape.csv',\n",
       " 'Toyota Auto Receivables 2020-B Owner Trust Data Tape.csv',\n",
       " 'CarMax Auto Owner Trust 2018-1 Data Tape.csv',\n",
       " 'Santander Drive Auto Receivables Trust 2017-2 Data Tape.csv',\n",
       " 'World Omni Auto Receivables Trust 2019-C Data Tape.csv',\n",
       " 'Santander Drive Auto Receivables Trust 2017-1 Data Tape.csv',\n",
       " 'Santander Drive Auto Receivables Trust 2020-4 Data Tape.csv',\n",
       " 'Drive Auto Receivables Trust 2018-4 Data Tape.csv',\n",
       " 'Drive Auto Receivables Trust 2019-1 Data Tape.csv',\n",
       " 'Ford Credit Auto Lease Trust 2021-A Data Tape.csv',\n",
       " 'CarMax Auto Owner Trust 2020-1 Data Tape.csv',\n",
       " 'Drive Auto Receivables Trust 2020-2 Data Tape.csv',\n",
       " 'Honda Auto Receivables 2019-2 Owner Trust Data Tape.csv',\n",
       " 'GM Financial Consumer Automobile Receivables Trust 2020-4 Data Tape.csv',\n",
       " 'Drive Auto Receivables Trust 2020-1 Data Tape.csv',\n",
       " 'Hyundai Auto Receivables Trust 2017-A Data Tape.csv',\n",
       " 'AmeriCredit Automobile Receivables Trust 2020-3 Data Tape.csv',\n",
       " 'Mercedes-Benz Auto Lease Trust 2018-B Data Tape.csv',\n",
       " 'Drive Auto Receivables Trust 2017-2 Data Tape.csv',\n",
       " 'CarMax Auto Owner Trust 2018-3 Data Tape.csv',\n",
       " 'GM Financial Consumer Automobile Receivables Trust 2020-3 Data Tape.csv',\n",
       " 'AmeriCredit Automobile Receivables Trust 2020-1 Data Tape.csv',\n",
       " 'Hyundai Auto Receivables Trust 2017-B Data Tape.csv',\n",
       " 'GM Financial Consumer Automobile Receivables Trust 2021-1 Data Tape.csv',\n",
       " 'Drive Auto Receivables Trust 2018-3 Data Tape.csv',\n",
       " 'World Omni Auto Receivables Trust 2021-A Data Tape.csv',\n",
       " 'Ford Credit Auto Owner Trust 2020-C Data Tape.csv',\n",
       " 'Santander Drive Auto Receivables Trust 2021-1 Data Tape.csv',\n",
       " 'Honda Auto Receivables 2017-3 Owner Trust Data Tape.csv',\n",
       " 'World Omni Auto Receivables Trust 2017-A Data Tape.csv',\n",
       " 'Nissan Auto Receivables 2020-B Owner Trust Data Tape.csv',\n",
       " 'Drive Auto Receivables Trust 2018-5 Data Tape.csv',\n",
       " 'Hyundai Auto Receivables Trust 2019-B Data Tape.csv',\n",
       " 'GM Financial Automobile Leasing Trust 2020-2 Data Tape.csv',\n",
       " 'World Omni Automobile Lease Securitization Trust 2017-A Data Tape.csv',\n",
       " 'Ally Auto Receivables Trust 2017-1 Data Tape.csv',\n",
       " 'USAA Auto Owner Trust 2017-1 Data Tape.csv',\n",
       " 'CarMax Auto Owner Trust 2017-3 Data Tape.csv',\n",
       " 'AmeriCredit Automobile Receivables Trust 2018-3 Data Tape.csv',\n",
       " 'Ally Auto Receivables Trust 2017-2 Data Tape.csv',\n",
       " 'GM Financial Consumer Automobile Receivables Trust 2018-1 Data Tape.csv',\n",
       " 'Harley-Davidson Motorcycle Trust 2020-A Data Tape.csv',\n",
       " 'Volkswagen Auto Loan Enhanced Trust 2018-2 Data Tape.csv',\n",
       " 'GM Financial Automobile Leasing Trust 2017-1 Data Tape.csv',\n",
       " 'Ally Auto Receivables Trust 2017-4 Data Tape.csv',\n",
       " 'Toyota Auto Receivables 2017-B Owner Trust Data Tape.csv',\n",
       " 'GM Financial Automobile Leasing Trust 2019-2 Data Tape.csv',\n",
       " 'Capital One Prime Auto Receivables Trust 2019-1 Data Tape.csv',\n",
       " 'Toyota Auto Receivables 2018-D Owner Trust Data Tape.csv',\n",
       " 'Santander Drive Auto Receivables Trust 2019-2 Data Tape.csv',\n",
       " 'World Omni Select Auto Trust 2019-A Data Tape.csv',\n",
       " 'Ford Credit Auto Owner Trust 2020-A Data Tape.csv',\n",
       " 'Exeter Automobile Receivables Trust 2020-3 Data Tape.csv',\n",
       " 'CarMax Auto Owner Trust 2020-2 Data Tape.csv',\n",
       " 'Hyundai Auto Receivables Trust 2020-B Data Tape.csv',\n",
       " 'Ford Credit Auto Owner Trust 2018-B Data Tape.csv',\n",
       " 'Mercedes-Benz Auto Lease Trust 2020-A Data Tape.csv',\n",
       " 'Honda Auto Receivables 2017-1 Owner Trust Data Tape.csv',\n",
       " 'Ford Credit Auto Owner Trust 2019-C Data Tape.csv',\n",
       " 'Nissan Auto Receivables 2020-A Owner Trust Data Tape.csv',\n",
       " 'CarMax Auto Owner Trust 2017-2 Data Tape.csv',\n",
       " 'GM Financial Consumer Automobile Receivables Trust 2019-3 Data Tape.csv',\n",
       " 'World Omni Automobile Lease Securitization Trust 2020-B Data Tape.csv',\n",
       " 'Honda Auto Receivables 2020-1 Owner Trust Data Tape.csv',\n",
       " 'Nissan Auto Lease Trust 2017-A Data Tape.csv',\n",
       " 'Drive Auto Receivables Trust 2019-2 Data Tape.csv',\n",
       " 'AmeriCredit Automobile Receivables Trust 2018-1 Data Tape.csv',\n",
       " 'Nissan Auto Receivables 2018-C Owner Trust Data Tape.csv',\n",
       " 'GM Financial Automobile Leasing Trust 2017-2 Data Tape.csv',\n",
       " 'Ally Auto Receivables Trust 2019-1 Data Tape.csv',\n",
       " 'World Omni Auto Receivables Trust 2020-A Data Tape.csv',\n",
       " 'Toyota Auto Receivables 2020-A Owner Trust Data Tape.csv',\n",
       " 'GM Financial Automobile Leasing Trust 2020-3 Data Tape.csv',\n",
       " 'World Omni Automobile Lease Securitization Trust 2019-A Data Tape.csv',\n",
       " 'AmeriCredit Automobile Receivables Trust 2017-4 Data Tape.csv',\n",
       " 'Ford Credit Auto Owner Trust 2017-C Data Tape.csv',\n",
       " 'Nissan Auto Receivables 2017-C Owner Trust Data Tape.csv',\n",
       " 'Santander Drive Auto Receivables Trust 2019-3 Data Tape.csv',\n",
       " 'GM Financial Automobile Leasing Trust 2018-2 Data Tape.csv',\n",
       " 'Nissan Auto Receivables 2017-B Owner Trust Data Tape.csv',\n",
       " 'BMW Vehicle Lease Trust 2019-1 Data Tape.csv',\n",
       " 'Ally Auto Receivables Trust 2019-4 Data Tape.csv',\n",
       " 'Volkswagen Auto Loan Enhanced Trust 2018-1 Data Tape.csv',\n",
       " 'Mercedes-Benz Auto Lease Trust 2018-A Data Tape.csv',\n",
       " 'Toyota Auto Receivables 2019-B Owner Trust Data Tape.csv',\n",
       " 'Hyundai Auto Receivables Trust 2019-A Data Tape.csv',\n",
       " 'GM Financial Automobile Leasing Trust 2019-3 Data Tape.csv',\n",
       " 'Honda Auto Receivables 2019-3 Owner Trust Data Tape.csv',\n",
       " 'Honda Auto Receivables 2019-1 Owner Trust Data Tape.csv',\n",
       " 'BMW Vehicle Lease Trust 2018-1 Data Tape.csv',\n",
       " 'GM Financial Automobile Leasing Trust 2020-1 Data Tape.csv',\n",
       " 'Mercedes-Benz Auto Lease Trust 2020-B Data Tape.csv',\n",
       " 'Nissan Auto Lease Trust 2020-A Data Tape.csv',\n",
       " 'Santander Drive Auto Receivables Trust 2018-4 Data Tape.csv',\n",
       " 'Mercedez-Benz Auto Lease Trust 2019-A Data Tape.csv',\n",
       " 'Santander Drive Auto Receivables Trust 2020-1 Data Tape.csv',\n",
       " 'CarMax Auto Owner Trust 2017-4 Data Tape.csv',\n",
       " 'USAA Auto Owner Trust 2019-1 Data Tape.csv',\n",
       " 'Ford Credit Auto Lease Trust 2017-B Data Tape.csv',\n",
       " 'Santander Drive Auto Receivables Trust 2018-5 Data Tape.csv',\n",
       " 'Honda Auto Receivables 2020-3 Owner Trust Data Tape.csv',\n",
       " 'Santander Drive Auto Receivables Trust 2017-3 Data Tape.csv',\n",
       " 'Toyota Auto Receivables 2018-A Owner Trust Data Tape.csv',\n",
       " 'Fifth Third Auto Trust 2017-1 Data Tape.csv',\n",
       " 'Toyota Auto Receivables 2019-A Owner Trust Data Tape.csv',\n",
       " 'World Omni Automobile Lease Securitization Trust 2018-B Data Tape.csv',\n",
       " 'Nissan Auto Receivables 2019-C Owner Trust Data Tape.csv',\n",
       " 'World Omni Auto Receivables Trust 2020-B Data Tape.csv',\n",
       " 'Ally Auto Receivables Trust 2017-3 Data Tape.csv',\n",
       " 'World Omni Automobile Lease Securitization Trust 2019-B Data Tape.csv',\n",
       " 'Honda Auto Receivables 2019-4 Owner Trust Data Tape.csv',\n",
       " 'AmeriCredit Automobile Receivables Trust 2020-2 Data Tape.csv',\n",
       " 'WORLD OMNI AUTO RECEIVABLES TRUST 2018-C Data Tape.csv',\n",
       " 'Ally Auto Assets LLC Data Tape.csv',\n",
       " 'Ally Auto Receivables Trust 2018-2 Data Tape.csv',\n",
       " 'Ford Credit Auto Lease Trust 2019-B Data Tape.csv',\n",
       " 'CarMax Auto Owner Trust 2017-1 Data Tape.csv',\n",
       " 'Santander Drive Auto Receivables Trust 2020-3 Data Tape.csv',\n",
       " 'Exeter Automobile Receivables Trust 2021-1 Data Tape.csv',\n",
       " 'GM Financial Consumer Automobile Receivables Trust 2018-3 Data Tape.csv',\n",
       " 'Nissan Auto Receivables 2018-B Owner Trust Data Tape.csv',\n",
       " 'GM Financial Automobile Leasing Trust 2019-1 Data Tape.csv',\n",
       " 'Hyundai Auto Receivables Trust 2020-C Data Tape.csv',\n",
       " 'Honda Auto Receivables 2018-3 Owner Trust Data Tape.csv',\n",
       " 'Ford Credit Auto Lease Trust 2018-A Data Tape.csv',\n",
       " 'GM Financial Automobile Leasing Trust 2018-1 Data Tape.csv',\n",
       " 'Ally Auto Receivables Trust 2017-5 Data Tape.csv',\n",
       " 'Nissan Auto Receivables 2018-A Owner Trust Data Tape.csv',\n",
       " 'Drive Auto Receivables Trust 2019-3 Data Tape.csv',\n",
       " 'Hyundai Auto Receivables Trust 2020-A Data Tape.csv',\n",
       " 'AmeriCredit Automobile Receivables Trust 2021-1 Data Tape.csv',\n",
       " 'Ford Credit Auto Lease Trust 2017-A Data Tape.csv',\n",
       " 'Santander Drive Auto Receivables Trust 2018-2 Data Tape.csv',\n",
       " 'World Omni Select Auto Trust 2020-A Data Tape.csv',\n",
       " 'Ford Credit Auto Owner Trust 2019-B Data Tape.csv',\n",
       " 'Ford Credit Auto Lease Trust 2020-B Data Tape.csv',\n",
       " 'Ford Credit Auto Owner Trust 2021-A Data Tape.csv',\n",
       " 'Toyota Auto Receivables 2017-D Owner Trust Data Tape.csv',\n",
       " 'Hyundai Auto Receivables Trust 2018-B Data Tape.csv',\n",
       " 'Toyota Auto Receivables 2020-C Owner Trust Data Tape.csv',\n",
       " 'Honda Auto Receivables 2018-4 Owner Trust Data Tape.csv',\n",
       " 'Toyota Auto Receivables 2017-A Owner Trust Data Tape.csv',\n",
       " 'GM Financial Automobile Leasing Trust 2017-3 Data Tape.csv',\n",
       " 'CarMax Auto Owner Trust 2020-3 Data Tape.csv',\n",
       " 'BMW Vehicle Owner Trust 2019-A Data Tape.csv',\n",
       " 'CarMax Auto Owner Trust 2019-2 Data Tape.csv',\n",
       " 'CarMax Auto Owner Trust 2018-2 Data Tape.csv',\n",
       " 'Toyota Auto Receivables 2019-D Owner Trust Data Tape.csv']"
      ]
     },
     "execution_count": 7,
     "metadata": {},
     "output_type": "execute_result"
    }
   ],
   "source": [
    "sec_keys"
   ]
  },
  {
   "cell_type": "markdown",
   "metadata": {},
   "source": [
    "### Reformat json"
   ]
  },
  {
   "cell_type": "code",
   "execution_count": 8,
   "metadata": {},
   "outputs": [],
   "source": [
    "finder = re.compile(r'\\b\\d{4}-[A-Za-z\\d]+\\b')\n"
   ]
  },
  {
   "cell_type": "code",
   "execution_count": 9,
   "metadata": {},
   "outputs": [],
   "source": [
    "r_dict = {}\n",
    "r_dict['total_securitizations'] = len(sec_keys)\n",
    "for k in sec_keys:\n",
    "    add_id_m = re.search(finder, str(k))\n",
    "    oritinator, _type = get_originator(k)\n",
    "    counter = 0\n",
    "    r_dict[k] = {}\n",
    "    for k2 in files_dict:\n",
    "        if k == k2.split('_')[1]:\n",
    "            counter = counter + 1\n",
    "            r_dict[k][k2] = files_dict[k2]\n",
    "    r_dict[k]['releases'] = counter\n",
    "    r_dict[k]['originator'] = oritinator\n",
    "    r_dict[k]['type'] = _type\n",
    "    if add_id_m:\n",
    "        r_dict[k]['origination_number'] = add_id_m.group()\n",
    "    else:\n",
    "        r_dict[k]['origination_number'] = 'not_found'\n",
    "    "
   ]
  },
  {
   "cell_type": "markdown",
   "metadata": {},
   "source": [
    "### Export"
   ]
  },
  {
   "cell_type": "code",
   "execution_count": 10,
   "metadata": {},
   "outputs": [
    {
     "data": {
      "text/plain": [
       "'data/json/securitizations/detailed/detailed_2021-03-03.json'"
      ]
     },
     "execution_count": 10,
     "metadata": {},
     "output_type": "execute_result"
    }
   ],
   "source": [
    "e_folder = 'data/json/securitizations/detailed/'\n",
    "e_file = 'detailed_{}.json'.format(today)\n",
    "e_path = e_folder + e_file\n",
    "e_path"
   ]
  },
  {
   "cell_type": "code",
   "execution_count": 11,
   "metadata": {},
   "outputs": [],
   "source": [
    "with open(e_path, 'w') as outfile:  \n",
    "    json.dump(r_dict, outfile, indent = 4, separators = (',', ': '), sort_keys = False)"
   ]
  },
  {
   "cell_type": "code",
   "execution_count": 12,
   "metadata": {},
   "outputs": [
    {
     "name": "stdout",
     "output_type": "stream",
     "text": [
      "complete...\n"
     ]
    }
   ],
   "source": [
    "print('complete...')"
   ]
  },
  {
   "cell_type": "code",
   "execution_count": null,
   "metadata": {},
   "outputs": [],
   "source": []
  },
  {
   "cell_type": "markdown",
   "metadata": {},
   "source": [
    "### End"
   ]
  }
 ],
 "metadata": {
  "kernelspec": {
   "display_name": "Python 3",
   "language": "python",
   "name": "python3"
  },
  "language_info": {
   "codemirror_mode": {
    "name": "ipython",
    "version": 3
   },
   "file_extension": ".py",
   "mimetype": "text/x-python",
   "name": "python",
   "nbconvert_exporter": "python",
   "pygments_lexer": "ipython3",
   "version": "3.7.3"
  }
 },
 "nbformat": 4,
 "nbformat_minor": 4
}
