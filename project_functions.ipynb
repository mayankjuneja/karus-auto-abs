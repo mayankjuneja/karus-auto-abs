{
 "cells": [
  {
   "cell_type": "markdown",
   "metadata": {},
   "source": [
    "### Project functions"
   ]
  },
  {
   "cell_type": "code",
   "execution_count": 1,
   "metadata": {},
   "outputs": [],
   "source": [
    "# get originator\n",
    "def get_originator(sec):\n",
    "    \n",
    "    \"\"\"\n",
    "    Get originator\n",
    "    \"\"\"\n",
    "    \n",
    "    sec = sec.lower()\n",
    "    if 'carmax' in sec:\n",
    "        o = 'CarMax'\n",
    "    elif 'volkswagen' in sec:\n",
    "        o = 'Volkswagen'\n",
    "    elif 'ally' in sec:\n",
    "        o = 'Ally'\n",
    "    elif 'hyundai' in sec:\n",
    "        o = 'Hyundai'\n",
    "    elif 'bmw' in sec:\n",
    "        o = 'BMW'\n",
    "    elif 'nissan' in sec:\n",
    "        o = 'Nissan'\n",
    "    elif 'americredit' in sec:\n",
    "        o = 'AmeriCredit'\n",
    "    elif 'honda' in sec:\n",
    "        o = 'Honda'\n",
    "    elif 'gm' in sec:\n",
    "        o = 'GM'\n",
    "    elif 'world omni' in sec:\n",
    "        o = 'World_Omni'\n",
    "    elif 'drive auto' in sec and 'santander' not in sec:\n",
    "        o = 'Drive_Auto'\n",
    "    elif 'usaa' in sec:\n",
    "        o = 'USAA'\n",
    "    elif 'toyota' in sec:\n",
    "        o = 'Toyota'\n",
    "    elif 'ford' in sec:\n",
    "        o = 'Ford'\n",
    "    elif 'harley-davidson' in sec:\n",
    "        o = 'Harley_Davidson'\n",
    "    elif 'santander' in sec:\n",
    "        o = 'Santander'\n",
    "    elif 'mercedes' in sec or 'mercedez' in sec:\n",
    "        o = 'Mercedes'\n",
    "    elif 'capital one' in sec:\n",
    "        o = 'Capital_One'\n",
    "    elif 'california' in sec:\n",
    "        o = 'California_Republic'\n",
    "    elif 'exeter' in sec:\n",
    "        o = 'Exeter'\n",
    "    elif 'fifth third' in sec:\n",
    "        o = 'Fifth_Third'\n",
    "    elif 'wells fargo' in sec:\n",
    "        o = 'Wells_Fargo'\n",
    "    elif 'carvana' in sec:\n",
    "        o = 'Carvana'\n",
    "    else:\n",
    "        o = sec.split()[0].capitalize()\n",
    "    \n",
    "    if 'lease' in sec:\n",
    "        t = 'lease'\n",
    "    else:\n",
    "        t = 'receivables'\n",
    "    \n",
    "    return o, t"
   ]
  },
  {
   "cell_type": "code",
   "execution_count": null,
   "metadata": {},
   "outputs": [],
   "source": []
  },
  {
   "cell_type": "code",
   "execution_count": null,
   "metadata": {},
   "outputs": [],
   "source": []
  },
  {
   "cell_type": "markdown",
   "metadata": {},
   "source": [
    "### End"
   ]
  }
 ],
 "metadata": {
  "kernelspec": {
   "display_name": "Python 3",
   "language": "python",
   "name": "python3"
  },
  "language_info": {
   "codemirror_mode": {
    "name": "ipython",
    "version": 3
   },
   "file_extension": ".py",
   "mimetype": "text/x-python",
   "name": "python",
   "nbconvert_exporter": "python",
   "pygments_lexer": "ipython3",
   "version": "3.7.3"
  }
 },
 "nbformat": 4,
 "nbformat_minor": 4
}
