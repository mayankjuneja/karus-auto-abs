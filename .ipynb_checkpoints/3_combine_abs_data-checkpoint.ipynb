{
 "cells": [
  {
   "cell_type": "markdown",
   "metadata": {},
   "source": [
    "\n",
    "\n",
    "### Load libs"
   ]
  },
  {
   "cell_type": "code",
   "execution_count": 1,
   "metadata": {},
   "outputs": [],
   "source": [
    "import pandas as pd\n",
    "import io\n",
    "import requests\n",
    "import json\n",
    "import numpy as np\n",
    "import time\n",
    "import os\n",
    "import re"
   ]
  },
  {
   "cell_type": "code",
   "execution_count": 2,
   "metadata": {},
   "outputs": [
    {
     "name": "stderr",
     "output_type": "stream",
     "text": [
      "/anaconda3/envs/kn/lib/python3.7/site-packages/ipykernel_launcher.py:4: FutureWarning: Passing a negative integer is deprecated in version 1.0 and will not be supported in future version. Instead, use None to not limit the column width.\n",
      "  after removing the cwd from sys.path.\n"
     ]
    }
   ],
   "source": [
    "n = 500\n",
    "pd.set_option('display.max_columns', n)\n",
    "pd.set_option('display.max_rows', n)\n",
    "pd.set_option('display.max_colwidth', -1)"
   ]
  },
  {
   "cell_type": "markdown",
   "metadata": {},
   "source": [
    "### Load data"
   ]
  },
  {
   "cell_type": "code",
   "execution_count": 3,
   "metadata": {},
   "outputs": [
    {
     "data": {
      "text/plain": [
       "243"
      ]
     },
     "execution_count": 3,
     "metadata": {},
     "output_type": "execute_result"
    }
   ],
   "source": [
    "# detailed json\n",
    "folder = 'data/json/securitizations/detailed/'\n",
    "files = [f for f in os.listdir(folder) if '.json' in f and '._' not in f]\n",
    "files.sort()\n",
    "file = files[-1]\n",
    "path = folder + file\n",
    "with open(path) as f:\n",
    "    files_dict = json.load(f)\n",
    "keys = list(files_dict.keys())\n",
    "use_keys = [k for k in keys if k != 'total_securitizations']\n",
    "use_keys.sort()\n",
    "len(use_keys)\n"
   ]
  },
  {
   "cell_type": "code",
   "execution_count": 4,
   "metadata": {},
   "outputs": [
    {
     "data": {
      "text/plain": [
       "['Ally Auto Assets LLC Data Tape.csv',\n",
       " 'Ally Auto Receivables Trust 2017-1 Data Tape.csv',\n",
       " 'Ally Auto Receivables Trust 2017-2 Data Tape.csv',\n",
       " 'Ally Auto Receivables Trust 2017-3 Data Tape.csv',\n",
       " 'Ally Auto Receivables Trust 2017-4 Data Tape.csv',\n",
       " 'Ally Auto Receivables Trust 2017-5 Data Tape.csv',\n",
       " 'Ally Auto Receivables Trust 2018-1 Data Tape.csv',\n",
       " 'Ally Auto Receivables Trust 2018-2 Data Tape.csv',\n",
       " 'Ally Auto Receivables Trust 2018-3 Data Tape.csv',\n",
       " 'Ally Auto Receivables Trust 2019-1 Data Tape.csv',\n",
       " 'Ally Auto Receivables Trust 2019-2 Data Tape.csv',\n",
       " 'Ally Auto Receivables Trust 2019-3 Data Tape.csv',\n",
       " 'Ally Auto Receivables Trust 2019-4 Data Tape.csv',\n",
       " 'AmeriCredit Automobile Receivables Trust 2017-1 Data Tape.csv',\n",
       " 'AmeriCredit Automobile Receivables Trust 2017-2 Data Tape.csv',\n",
       " 'AmeriCredit Automobile Receivables Trust 2017-3 Data Tape.csv',\n",
       " 'AmeriCredit Automobile Receivables Trust 2017-4 Data Tape.csv',\n",
       " 'AmeriCredit Automobile Receivables Trust 2018-1 Data Tape.csv',\n",
       " 'AmeriCredit Automobile Receivables Trust 2018-2 Data Tape.csv',\n",
       " 'AmeriCredit Automobile Receivables Trust 2018-3 Data Tape.csv',\n",
       " 'AmeriCredit Automobile Receivables Trust 2019-1 Data Tape.csv',\n",
       " 'AmeriCredit Automobile Receivables Trust 2019-2 Data Tape.csv',\n",
       " 'AmeriCredit Automobile Receivables Trust 2019-3 Data Tape.csv',\n",
       " 'AmeriCredit Automobile Receivables Trust 2020-1 Data Tape.csv',\n",
       " 'AmeriCredit Automobile Receivables Trust 2020-2 Data Tape.csv',\n",
       " 'AmeriCredit Automobile Receivables Trust 2020-3 Data Tape.csv',\n",
       " 'BMW Vehicle Lease Trust 2017-1 Data Tape.csv',\n",
       " 'BMW Vehicle Lease Trust 2017-2 Data Tape.csv',\n",
       " 'BMW Vehicle Lease Trust 2018-1 Data Tape.csv',\n",
       " 'BMW Vehicle Lease Trust 2019-1 Data Tape.csv',\n",
       " 'BMW Vehicle Owner Trust 2018-A Data Tape.csv',\n",
       " 'BMW Vehicle Owner Trust 2019-A Data Tape.csv',\n",
       " 'BMW Vehicle Owner Trust 2020-A Data Tape.csv',\n",
       " 'California Republic Auto Receivables Trust 2017-1 Data Tape.csv',\n",
       " 'California Republic Auto Receivables Trust 2018-1 Data Tape.csv',\n",
       " 'California Republic Funding LLC Data Tape.csv',\n",
       " 'Capital One Prime Auto Receivables Trust 2019-1 Data Tape.csv',\n",
       " 'Capital One Prime Auto Receivables Trust 2019-2 Data Tape.csv',\n",
       " 'Capital One Prime Auto Receivables Trust 2020-1 Data Tape.csv',\n",
       " 'CarMax Auto Owner Trust 2017-1 Data Tape.csv',\n",
       " 'CarMax Auto Owner Trust 2017-2 Data Tape.csv',\n",
       " 'CarMax Auto Owner Trust 2017-3 Data Tape.csv',\n",
       " 'CarMax Auto Owner Trust 2017-4 Data Tape.csv',\n",
       " 'CarMax Auto Owner Trust 2018-1 Data Tape.csv',\n",
       " 'CarMax Auto Owner Trust 2018-2 Data Tape.csv',\n",
       " 'CarMax Auto Owner Trust 2018-3 Data Tape.csv',\n",
       " 'CarMax Auto Owner Trust 2018-4 Data Tape.csv',\n",
       " 'CarMax Auto Owner Trust 2019-1 Data Tape.csv',\n",
       " 'CarMax Auto Owner Trust 2019-2 Data Tape.csv',\n",
       " 'CarMax Auto Owner Trust 2019-3 Data Tape.csv',\n",
       " 'CarMax Auto Owner Trust 2019-4 Data Tape.csv',\n",
       " 'CarMax Auto Owner Trust 2020-1 Data Tape.csv',\n",
       " 'CarMax Auto Owner Trust 2020-2 Data Tape.csv',\n",
       " 'CarMax Auto Owner Trust 2020-3 Data Tape.csv',\n",
       " 'CarMax Auto Owner Trust 2020-4 Data Tape.csv',\n",
       " 'CarMax Auto Owner Trust 2021-1 Data Tape.csv',\n",
       " 'Carvana Auto Receivables Trust 2020-P1 Data Tape.csv',\n",
       " 'Drive Auto Receivables Trust 2017-1 Data Tape.csv',\n",
       " 'Drive Auto Receivables Trust 2017-2 Data Tape.csv',\n",
       " 'Drive Auto Receivables Trust 2017-3 Data Tape.csv',\n",
       " 'Drive Auto Receivables Trust 2018-1 Data Tape.csv',\n",
       " 'Drive Auto Receivables Trust 2018-2 Data Tape.csv',\n",
       " 'Drive Auto Receivables Trust 2018-3 Data Tape.csv',\n",
       " 'Drive Auto Receivables Trust 2018-4 Data Tape.csv',\n",
       " 'Drive Auto Receivables Trust 2018-5 Data Tape.csv',\n",
       " 'Drive Auto Receivables Trust 2019-1 Data Tape.csv',\n",
       " 'Drive Auto Receivables Trust 2019-2 Data Tape.csv',\n",
       " 'Drive Auto Receivables Trust 2019-3 Data Tape.csv',\n",
       " 'Drive Auto Receivables Trust 2019-4 Data Tape.csv',\n",
       " 'Drive Auto Receivables Trust 2020-1 Data Tape.csv',\n",
       " 'Drive Auto Receivables Trust 2020-2 Data Tape.csv',\n",
       " 'Exeter Automobile Receivables Trust 2020-3 Data Tape.csv',\n",
       " 'Exeter Automobile Receivables Trust 2021-1 Data Tape.csv',\n",
       " 'Fifth Third Auto Trust 2017-1 Data Tape.csv',\n",
       " 'Fifth Third Auto Trust 2019-1 Data Tape.csv',\n",
       " 'Ford Credit Auto Lease Trust 2017-A Data Tape.csv',\n",
       " 'Ford Credit Auto Lease Trust 2017-B Data Tape.csv',\n",
       " 'Ford Credit Auto Lease Trust 2018-A Data Tape.csv',\n",
       " 'Ford Credit Auto Lease Trust 2018-B Data Tape.csv',\n",
       " 'Ford Credit Auto Lease Trust 2019-A Data Tape.csv',\n",
       " 'Ford Credit Auto Lease Trust 2019-B Data Tape.csv',\n",
       " 'Ford Credit Auto Lease Trust 2020-A Data Tape.csv',\n",
       " 'Ford Credit Auto Lease Trust 2020-B Data Tape.csv',\n",
       " 'Ford Credit Auto Lease Trust 2021-A Data Tape.csv',\n",
       " 'Ford Credit Auto Owner Trust 2017-A Data Tape.csv',\n",
       " 'Ford Credit Auto Owner Trust 2017-B Data Tape.csv',\n",
       " 'Ford Credit Auto Owner Trust 2017-C Data Tape.csv',\n",
       " 'Ford Credit Auto Owner Trust 2018-A Data Tape.csv',\n",
       " 'Ford Credit Auto Owner Trust 2018-B Data Tape.csv',\n",
       " 'Ford Credit Auto Owner Trust 2019-A Data Tape.csv',\n",
       " 'Ford Credit Auto Owner Trust 2019-B Data Tape.csv',\n",
       " 'Ford Credit Auto Owner Trust 2019-C Data Tape.csv',\n",
       " 'Ford Credit Auto Owner Trust 2020-A Data Tape.csv',\n",
       " 'Ford Credit Auto Owner Trust 2020-B Data Tape.csv',\n",
       " 'Ford Credit Auto Owner Trust 2020-C Data Tape.csv',\n",
       " 'Ford Credit Auto Owner Trust 2021-A Data Tape.csv',\n",
       " 'GM Financial Automobile Leasing Trust 2017-1 Data Tape.csv',\n",
       " 'GM Financial Automobile Leasing Trust 2017-2 Data Tape.csv',\n",
       " 'GM Financial Automobile Leasing Trust 2017-3 Data Tape.csv',\n",
       " 'GM Financial Automobile Leasing Trust 2018-1 Data Tape.csv',\n",
       " 'GM Financial Automobile Leasing Trust 2018-2 Data Tape.csv',\n",
       " 'GM Financial Automobile Leasing Trust 2018-3 Data Tape.csv',\n",
       " 'GM Financial Automobile Leasing Trust 2019-1 Data Tape.csv',\n",
       " 'GM Financial Automobile Leasing Trust 2019-2 Data Tape.csv',\n",
       " 'GM Financial Automobile Leasing Trust 2019-3 Data Tape.csv',\n",
       " 'GM Financial Automobile Leasing Trust 2020-1 Data Tape.csv',\n",
       " 'GM Financial Automobile Leasing Trust 2020-2 Data Tape.csv',\n",
       " 'GM Financial Automobile Leasing Trust 2020-3 Data Tape.csv',\n",
       " 'GM Financial Automobile Leasing Trust 2021-1 Data Tape.csv',\n",
       " 'GM Financial Consumer Automobile Receivables Trust 2018-1 Data Tape.csv',\n",
       " 'GM Financial Consumer Automobile Receivables Trust 2018-2 Data Tape.csv',\n",
       " 'GM Financial Consumer Automobile Receivables Trust 2018-3 Data Tape.csv',\n",
       " 'GM Financial Consumer Automobile Receivables Trust 2018-4 Data Tape.csv',\n",
       " 'GM Financial Consumer Automobile Receivables Trust 2019-1 Data Tape.csv',\n",
       " 'GM Financial Consumer Automobile Receivables Trust 2019-2 Data Tape.csv',\n",
       " 'GM Financial Consumer Automobile Receivables Trust 2019-3 Data Tape.csv',\n",
       " 'GM Financial Consumer Automobile Receivables Trust 2019-4 Data Tape.csv',\n",
       " 'GM Financial Consumer Automobile Receivables Trust 2020-1 Data Tape.csv',\n",
       " 'GM Financial Consumer Automobile Receivables Trust 2020-2 Data Tape.csv',\n",
       " 'GM Financial Consumer Automobile Receivables Trust 2020-3 Data Tape.csv',\n",
       " 'GM Financial Consumer Automobile Receivables Trust 2020-4 Data Tape.csv',\n",
       " 'GM Financial Consumer Automobile Receivables Trust 2021-1 Data Tape.csv',\n",
       " 'Harley-Davidson Motorcycle Trust 2019-A Data Tape.csv',\n",
       " 'Harley-Davidson Motorcycle Trust 2020-A Data Tape.csv',\n",
       " 'Harley-Davidson Motorcycle Trust 2021-A Data Tape.csv',\n",
       " 'Honda Auto Receivables 2017-1 Owner Trust Data Tape.csv',\n",
       " 'Honda Auto Receivables 2017-2 Owner Trust Data Tape.csv',\n",
       " 'Honda Auto Receivables 2017-3 Owner Trust Data Tape.csv',\n",
       " 'Honda Auto Receivables 2017-4 Owner Trust Data Tape.csv',\n",
       " 'Honda Auto Receivables 2018-1 Owner Trust Data Tape.csv',\n",
       " 'Honda Auto Receivables 2018-2 Owner Trust Data Tape.csv',\n",
       " 'Honda Auto Receivables 2018-3 Owner Trust Data Tape.csv',\n",
       " 'Honda Auto Receivables 2018-4 Owner Trust Data Tape.csv',\n",
       " 'Honda Auto Receivables 2019-1 Owner Trust Data Tape.csv',\n",
       " 'Honda Auto Receivables 2019-2 Owner Trust Data Tape.csv',\n",
       " 'Honda Auto Receivables 2019-3 Owner Trust Data Tape.csv',\n",
       " 'Honda Auto Receivables 2019-4 Owner Trust Data Tape.csv',\n",
       " 'Honda Auto Receivables 2020-1 Owner Trust Data Tape.csv',\n",
       " 'Honda Auto Receivables 2020-2 Owner Trust Data Tape.csv',\n",
       " 'Honda Auto Receivables 2020-3 Owner Trust Data Tape.csv',\n",
       " 'Honda Auto Receivables 2021-1 Owner Trust Data Tape.csv',\n",
       " 'Hyundai Auto Receivables Trust 2017-A Data Tape.csv',\n",
       " 'Hyundai Auto Receivables Trust 2017-B Data Tape.csv',\n",
       " 'Hyundai Auto Receivables Trust 2018-A Data Tape.csv',\n",
       " 'Hyundai Auto Receivables Trust 2018-B Data Tape.csv',\n",
       " 'Hyundai Auto Receivables Trust 2019-A Data Tape.csv',\n",
       " 'Hyundai Auto Receivables Trust 2019-B Data Tape.csv',\n",
       " 'Hyundai Auto Receivables Trust 2020-A Data Tape.csv',\n",
       " 'Hyundai Auto Receivables Trust 2020-B Data Tape.csv',\n",
       " 'Hyundai Auto Receivables Trust 2020-C Data Tape.csv',\n",
       " 'Mercedes-Benz Auto Lease Trust 2017-A Data Tape.csv',\n",
       " 'Mercedes-Benz Auto Lease Trust 2018-A Data Tape.csv',\n",
       " 'Mercedes-Benz Auto Lease Trust 2018-B Data Tape.csv',\n",
       " 'Mercedes-Benz Auto Lease Trust 2019-A Data Tape.csv',\n",
       " 'Mercedes-Benz Auto Lease Trust 2019-B Data Tape.csv',\n",
       " 'Mercedes-Benz Auto Lease Trust 2020-A Data Tape.csv',\n",
       " 'Mercedes-Benz Auto Lease Trust 2020-B Data Tape.csv',\n",
       " 'Mercedes-Benz Auto Lease Trust 2021-A Data Tape.csv',\n",
       " 'Mercedes-Benz Auto Receivables Trust 2018-1 Data Tape.csv',\n",
       " 'Mercedes-Benz Auto Receivables Trust 2019-1 Data Tape.csv',\n",
       " 'Mercedes-Benz Auto Receivables Trust 2020-1 Data Tape.csv',\n",
       " 'Mercedez-Benz Auto Lease Trust 2019-A Data Tape.csv',\n",
       " 'Nissan Auto Lease Trust 2017-A Data Tape.csv',\n",
       " 'Nissan Auto Lease Trust 2017-B Data Tape.csv',\n",
       " 'Nissan Auto Lease Trust 2018-A Data Tape.csv',\n",
       " 'Nissan Auto Lease Trust 2019-A Data Tape.csv',\n",
       " 'Nissan Auto Lease Trust 2019-B Data Tape.csv',\n",
       " 'Nissan Auto Lease Trust 2020-A Data Tape.csv',\n",
       " 'Nissan Auto Lease Trust 2020-B Data Tape.csv',\n",
       " 'Nissan Auto Receivables 2017-A Owner Trust Data Tape.csv',\n",
       " 'Nissan Auto Receivables 2017-B Owner Trust Data Tape.csv',\n",
       " 'Nissan Auto Receivables 2017-C Owner Trust Data Tape.csv',\n",
       " 'Nissan Auto Receivables 2018-A Owner Trust Data Tape.csv',\n",
       " 'Nissan Auto Receivables 2018-B Owner Trust Data Tape.csv',\n",
       " 'Nissan Auto Receivables 2018-C Owner Trust Data Tape.csv',\n",
       " 'Nissan Auto Receivables 2019-A Owner Trust Data Tape.csv',\n",
       " 'Nissan Auto Receivables 2019-B Owner Trust Data Tape.csv',\n",
       " 'Nissan Auto Receivables 2019-C Owner Trust Data Tape.csv',\n",
       " 'Nissan Auto Receivables 2020-A Owner Trust Data Tape.csv',\n",
       " 'Nissan Auto Receivables 2020-B Owner Trust Data Tape.csv',\n",
       " 'Santander Drive Auto Receivables Trust 2017-1 Data Tape.csv',\n",
       " 'Santander Drive Auto Receivables Trust 2017-2 Data Tape.csv',\n",
       " 'Santander Drive Auto Receivables Trust 2017-3 Data Tape.csv',\n",
       " 'Santander Drive Auto Receivables Trust 2018-1 Data Tape.csv',\n",
       " 'Santander Drive Auto Receivables Trust 2018-2 Data Tape.csv',\n",
       " 'Santander Drive Auto Receivables Trust 2018-3 Data Tape.csv',\n",
       " 'Santander Drive Auto Receivables Trust 2018-4 Data Tape.csv',\n",
       " 'Santander Drive Auto Receivables Trust 2018-5 Data Tape.csv',\n",
       " 'Santander Drive Auto Receivables Trust 2019-1 Data Tape.csv',\n",
       " 'Santander Drive Auto Receivables Trust 2019-2 Data Tape.csv',\n",
       " 'Santander Drive Auto Receivables Trust 2019-3 Data Tape.csv',\n",
       " 'Santander Drive Auto Receivables Trust 2020-1 Data Tape.csv',\n",
       " 'Santander Drive Auto Receivables Trust 2020-2 Data Tape.csv',\n",
       " 'Santander Drive Auto Receivables Trust 2020-3 Data Tape.csv',\n",
       " 'Santander Drive Auto Receivables Trust 2020-4 Data Tape.csv',\n",
       " 'Santander Drive Auto Receivables Trust 2021-1 Data Tape.csv',\n",
       " 'Toyota Auto Receivables 2017-A Owner Trust Data Tape.csv',\n",
       " 'Toyota Auto Receivables 2017-B Owner Trust Data Tape.csv',\n",
       " 'Toyota Auto Receivables 2017-C Owner Trust Data Tape.csv',\n",
       " 'Toyota Auto Receivables 2017-D Owner Trust Data Tape.csv',\n",
       " 'Toyota Auto Receivables 2018-A Owner Trust Data Tape.csv',\n",
       " 'Toyota Auto Receivables 2018-B Owner Trust Data Tape.csv',\n",
       " 'Toyota Auto Receivables 2018-C Owner Trust Data Tape.csv',\n",
       " 'Toyota Auto Receivables 2018-D Owner Trust Data Tape.csv',\n",
       " 'Toyota Auto Receivables 2019-A Owner Trust Data Tape.csv',\n",
       " 'Toyota Auto Receivables 2019-B Owner Trust Data Tape.csv',\n",
       " 'Toyota Auto Receivables 2019-C Owner Trust Data Tape.csv',\n",
       " 'Toyota Auto Receivables 2019-D Owner Trust Data Tape.csv',\n",
       " 'Toyota Auto Receivables 2020-A Owner Trust Data Tape.csv',\n",
       " 'Toyota Auto Receivables 2020-B Owner Trust Data Tape.csv',\n",
       " 'Toyota Auto Receivables 2020-C Owner Trust Data Tape.csv',\n",
       " 'Toyota Auto Receivables 2020-D Owner Trust Data Tape.csv',\n",
       " 'Toyota Auto Receivables 2021-A Owner Trust Data Tape.csv',\n",
       " 'USAA Auto Owner Trust 2017-1 Data Tape.csv',\n",
       " 'USAA Auto Owner Trust 2019-1 Data Tape.csv',\n",
       " 'Volkswagen Auto Lease Trust 2019-A Data Tape.csv',\n",
       " 'Volkswagen Auto Lease Trust 2020-A Data Tape.csv',\n",
       " 'Volkswagen Auto Loan Enhanced Trust 2018-1 Data Tape.csv',\n",
       " 'Volkswagen Auto Loan Enhanced Trust 2018-2 Data Tape.csv',\n",
       " 'Volkswagen Auto Loan Enhanced Trust 2020-1 Data Tape.csv',\n",
       " 'WORLD OMNI AUTO RECEIVABLES TRUST 2018-C Data Tape.csv',\n",
       " 'Wells Fargo Commercial Mortgage Trust 2017-RC1 Data Tape.csv',\n",
       " 'World Omni Auto Receivables Trust 2017-A Data Tape.csv',\n",
       " 'World Omni Auto Receivables Trust 2017-B Data Tape.csv',\n",
       " 'World Omni Auto Receivables Trust 2018-A Data Tape.csv',\n",
       " 'World Omni Auto Receivables Trust 2018-B Data Tape.csv',\n",
       " 'World Omni Auto Receivables Trust 2018-D Data Tape.csv',\n",
       " 'World Omni Auto Receivables Trust 2019-A Data Tape.csv',\n",
       " 'World Omni Auto Receivables Trust 2019-B Data Tape.csv',\n",
       " 'World Omni Auto Receivables Trust 2019-C Data Tape.csv',\n",
       " 'World Omni Auto Receivables Trust 2020-A Data Tape.csv',\n",
       " 'World Omni Auto Receivables Trust 2020-B Data Tape.csv',\n",
       " 'World Omni Auto Receivables Trust 2020-C Data Tape.csv',\n",
       " 'World Omni Auto Receivables Trust 2021-A Data Tape.csv',\n",
       " 'World Omni Automobile Lease Securitization Trust 2017-A Data Tape.csv',\n",
       " 'World Omni Automobile Lease Securitization Trust 2018-A Data Tape.csv',\n",
       " 'World Omni Automobile Lease Securitization Trust 2018-B Data Tape.csv',\n",
       " 'World Omni Automobile Lease Securitization Trust 2019-A Data Tape.csv',\n",
       " 'World Omni Automobile Lease Securitization Trust 2019-B Data Tape.csv',\n",
       " 'World Omni Automobile Lease Securitization Trust 2020-A Data Tape.csv',\n",
       " 'World Omni Automobile Lease Securitization Trust 2020-B Data Tape.csv',\n",
       " 'World Omni Select Auto Trust 2019-A Data Tape.csv',\n",
       " 'World Omni Select Auto Trust 2020-A Data Tape.csv']"
      ]
     },
     "execution_count": 4,
     "metadata": {},
     "output_type": "execute_result"
    }
   ],
   "source": [
    "use_keys"
   ]
  },
  {
   "cell_type": "markdown",
   "metadata": {},
   "source": [
    "### Grab data"
   ]
  },
  {
   "cell_type": "code",
   "execution_count": 5,
   "metadata": {},
   "outputs": [
    {
     "data": {
      "text/plain": [
       "'Santander Drive Auto Receivables Trust 2020-4 Data Tape.csv'"
      ]
     },
     "execution_count": 5,
     "metadata": {},
     "output_type": "execute_result"
    }
   ],
   "source": [
    "term = 'Santander Drive Auto Receivables Trust 2020-4 Data Tape'\n",
    "securitization = [file for file in use_keys if term in file][0]\n",
    "securitization"
   ]
  },
  {
   "cell_type": "code",
   "execution_count": 6,
   "metadata": {},
   "outputs": [],
   "source": [
    "sub_dict = files_dict[securitization]"
   ]
  },
  {
   "cell_type": "code",
   "execution_count": 7,
   "metadata": {},
   "outputs": [],
   "source": [
    "s_keys = list(sub_dict.keys())\n",
    "s_keys = [k for k in s_keys if k != 'releases']\n"
   ]
  },
  {
   "cell_type": "code",
   "execution_count": 8,
   "metadata": {},
   "outputs": [
    {
     "data": {
      "text/plain": [
       "5"
      ]
     },
     "execution_count": 8,
     "metadata": {},
     "output_type": "execute_result"
    }
   ],
   "source": [
    "use_len = len(s_keys)\n",
    "use_len"
   ]
  },
  {
   "cell_type": "markdown",
   "metadata": {},
   "source": [
    "### Combine data tapes"
   ]
  },
  {
   "cell_type": "code",
   "execution_count": 9,
   "metadata": {},
   "outputs": [
    {
     "name": "stdout",
     "output_type": "stream",
     "text": [
      "reading 2021.02.12_Santander Drive Auto Receivables Trust 2020-4 Data Tape.csv\n",
      "https://finsight.com/api/download-csv?fileId=76059\n"
     ]
    },
    {
     "name": "stderr",
     "output_type": "stream",
     "text": [
      "/anaconda3/envs/kn/lib/python3.7/site-packages/IPython/core/interactiveshell.py:3146: DtypeWarning: Columns (17) have mixed types.Specify dtype option on import or set low_memory=False.\n",
      "  interactivity=interactivity, compiler=compiler, result=result)\n"
     ]
    },
    {
     "name": "stdout",
     "output_type": "stream",
     "text": [
      "0.2\n",
      "-------------------------------------\n",
      "reading 2021.01.14_Santander Drive Auto Receivables Trust 2020-4 Data Tape.csv\n",
      "https://finsight.com/api/download-csv?fileId=73615\n",
      "0.4\n",
      "-------------------------------------\n",
      "reading 2020.12.14_Santander Drive Auto Receivables Trust 2020-4 Data Tape.csv\n",
      "https://finsight.com/api/download-csv?fileId=71666\n",
      "0.6\n",
      "-------------------------------------\n",
      "reading 2020.11.10_Santander Drive Auto Receivables Trust 2020-4 Data Tape.csv\n",
      "https://finsight.com/api/download-csv?fileId=69534\n",
      "0.8\n",
      "-------------------------------------\n",
      "reading 2020.11.10_Santander Drive Auto Receivables Trust 2020-4 Data Tape.csv_1\n",
      "https://finsight.com/api/download-csv?fileId=69530\n",
      "1.0\n",
      "-------------------------------------\n"
     ]
    }
   ],
   "source": [
    "collected = []\n",
    "broke = []\n",
    "master_list = []\n",
    "for file in s_keys:\n",
    "    print('reading {}'.format(file))\n",
    "    collected.append(file)\n",
    "    col_len = len(collected)\n",
    "    url = sub_dict[file]\n",
    "    print(url)\n",
    "    try:\n",
    "        init = requests.get(url).content\n",
    "        df = pd.read_csv(io.StringIO(init.decode('utf-8')))\n",
    "        df['dataset_name'] = file.split('.csv')[0]\n",
    "        master_list.append(df)\n",
    "        print(round(col_len / use_len, 3))\n",
    "    except:\n",
    "        broke.append(file)\n",
    "        print('ERROR!!!!! {}'.format(file))\n",
    "    time.sleep(2)\n",
    "    print('-------------------------------------')\n",
    "    "
   ]
  },
  {
   "cell_type": "markdown",
   "metadata": {},
   "source": [
    "### Quick processing"
   ]
  },
  {
   "cell_type": "code",
   "execution_count": 10,
   "metadata": {},
   "outputs": [
    {
     "name": "stdout",
     "output_type": "stream",
     "text": [
      "1\n",
      "2\n",
      "3\n",
      "4\n",
      "5\n"
     ]
    }
   ],
   "source": [
    "master_df = pd.DataFrame()\n",
    "count = 0\n",
    "for df in master_list:\n",
    "    count = count + 1\n",
    "    print(count)\n",
    "    master_df = master_df.append(df)\n",
    "    "
   ]
  },
  {
   "cell_type": "code",
   "execution_count": 11,
   "metadata": {},
   "outputs": [],
   "source": [
    "master_df = master_df.reset_index(drop = True)\n"
   ]
  },
  {
   "cell_type": "code",
   "execution_count": 12,
   "metadata": {},
   "outputs": [
    {
     "data": {
      "text/plain": [
       "607.6436812937221"
      ]
     },
     "execution_count": 12,
     "metadata": {},
     "output_type": "execute_result"
    }
   ],
   "source": [
    "master_df['obligorCreditScore'].replace('None', np.nan, inplace = True)\n",
    "master_df['obligorCreditScore'].replace('-', np.nan, inplace = True)\n",
    "master_df['obligorCreditScore'] = master_df['obligorCreditScore'].astype(float)\n",
    "master_df['obligorCreditScore'].mean()\n"
   ]
  },
  {
   "cell_type": "code",
   "execution_count": 13,
   "metadata": {},
   "outputs": [
    {
     "data": {
      "text/plain": [
       "(366189, 73)"
      ]
     },
     "execution_count": 13,
     "metadata": {},
     "output_type": "execute_result"
    }
   ],
   "source": [
    "master_df.shape"
   ]
  },
  {
   "cell_type": "markdown",
   "metadata": {},
   "source": [
    "### Export"
   ]
  },
  {
   "cell_type": "code",
   "execution_count": 14,
   "metadata": {},
   "outputs": [
    {
     "data": {
      "text/plain": [
       "'data/transaction/Santander Drive Auto Receivables Trust 2020-4 Data Tape.csv'"
      ]
     },
     "execution_count": 14,
     "metadata": {},
     "output_type": "execute_result"
    }
   ],
   "source": [
    "e_folder = 'data/transaction/'\n",
    "e_file = '{}.csv'.format(term)\n",
    "e_path = e_folder + e_file\n",
    "e_path"
   ]
  },
  {
   "cell_type": "code",
   "execution_count": 15,
   "metadata": {},
   "outputs": [],
   "source": [
    "master_df.to_csv(e_path, index = False)"
   ]
  },
  {
   "cell_type": "code",
   "execution_count": 16,
   "metadata": {},
   "outputs": [
    {
     "name": "stdout",
     "output_type": "stream",
     "text": [
      "complete...\n"
     ]
    }
   ],
   "source": [
    "print('complete...')"
   ]
  },
  {
   "cell_type": "code",
   "execution_count": null,
   "metadata": {},
   "outputs": [],
   "source": []
  },
  {
   "cell_type": "markdown",
   "metadata": {},
   "source": [
    "### End"
   ]
  }
 ],
 "metadata": {
  "kernelspec": {
   "display_name": "Python 3",
   "language": "python",
   "name": "python3"
  },
  "language_info": {
   "codemirror_mode": {
    "name": "ipython",
    "version": 3
   },
   "file_extension": ".py",
   "mimetype": "text/x-python",
   "name": "python",
   "nbconvert_exporter": "python",
   "pygments_lexer": "ipython3",
   "version": "3.7.3"
  }
 },
 "nbformat": 4,
 "nbformat_minor": 4
}
