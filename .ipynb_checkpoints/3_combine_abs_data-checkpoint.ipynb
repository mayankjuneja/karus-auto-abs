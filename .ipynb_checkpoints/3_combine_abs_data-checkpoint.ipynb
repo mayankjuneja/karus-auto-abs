{
 "cells": [
  {
   "cell_type": "markdown",
   "metadata": {},
   "source": [
    "\n",
    "\n",
    "### Load libs"
   ]
  },
  {
   "cell_type": "code",
   "execution_count": 1,
   "metadata": {},
   "outputs": [],
   "source": [
    "import pandas as pd\n",
    "import io\n",
    "import requests\n",
    "import json\n",
    "import numpy as np\n",
    "import time\n",
    "import os\n",
    "import re"
   ]
  },
  {
   "cell_type": "code",
   "execution_count": 2,
   "metadata": {},
   "outputs": [
    {
     "name": "stderr",
     "output_type": "stream",
     "text": [
      "/anaconda3/envs/kn/lib/python3.7/site-packages/ipykernel_launcher.py:4: FutureWarning: Passing a negative integer is deprecated in version 1.0 and will not be supported in future version. Instead, use None to not limit the column width.\n",
      "  after removing the cwd from sys.path.\n"
     ]
    }
   ],
   "source": [
    "n = 500\n",
    "pd.set_option('display.max_columns', n)\n",
    "pd.set_option('display.max_rows', n)\n",
    "pd.set_option('display.max_colwidth', -1)"
   ]
  },
  {
   "cell_type": "markdown",
   "metadata": {},
   "source": [
    "### Load data"
   ]
  },
  {
   "cell_type": "code",
   "execution_count": 3,
   "metadata": {},
   "outputs": [],
   "source": [
    "# detailed json\n",
    "folder = 'data/json/securitizations/detailed/'\n",
    "files = [f for f in os.listdir(folder) if '.json' in f and '._' not in f]\n",
    "files.sort()\n",
    "file = files[-1]\n",
    "path = folder + file\n",
    "with open(path) as f:\n",
    "    files_dict = json.load(f)\n",
    "keys = list(files_dict.keys())\n",
    "use_keys = [k for k in keys if k != 'total_securitizations']\n"
   ]
  },
  {
   "cell_type": "markdown",
   "metadata": {},
   "source": [
    "### Grab data"
   ]
  },
  {
   "cell_type": "code",
   "execution_count": 4,
   "metadata": {},
   "outputs": [
    {
     "data": {
      "text/plain": [
       "'AmeriCredit Automobile Receivables Trust 2020-1 Data Tape.csv'"
      ]
     },
     "execution_count": 4,
     "metadata": {},
     "output_type": "execute_result"
    }
   ],
   "source": [
    "term = 'AmeriCredit Automobile Receivables Trust 2020-1 Data Tape'\n",
    "securitization = [file for file in use_keys if term in file][0]\n",
    "securitization"
   ]
  },
  {
   "cell_type": "code",
   "execution_count": 5,
   "metadata": {},
   "outputs": [],
   "source": [
    "sub_dict = files_dict[securitization]"
   ]
  },
  {
   "cell_type": "code",
   "execution_count": 6,
   "metadata": {},
   "outputs": [],
   "source": [
    "s_keys = list(sub_dict.keys())\n",
    "s_keys = [k for k in s_keys if k != 'releases']\n"
   ]
  },
  {
   "cell_type": "code",
   "execution_count": 7,
   "metadata": {},
   "outputs": [
    {
     "data": {
      "text/plain": [
       "12"
      ]
     },
     "execution_count": 7,
     "metadata": {},
     "output_type": "execute_result"
    }
   ],
   "source": [
    "use_len = len(s_keys)\n",
    "use_len"
   ]
  },
  {
   "cell_type": "markdown",
   "metadata": {},
   "source": [
    "### Combine data tapes"
   ]
  },
  {
   "cell_type": "code",
   "execution_count": 8,
   "metadata": {},
   "outputs": [
    {
     "name": "stdout",
     "output_type": "stream",
     "text": [
      "reading 2021.01.22_AmeriCredit Automobile Receivables Trust 2020-1 Data Tape.csv\n",
      "https://finsight.com/api/download-csv?fileId=74236\n",
      "0.083\n",
      "-------------------------------------\n",
      "reading 2020.12.22_AmeriCredit Automobile Receivables Trust 2020-1 Data Tape.csv\n",
      "https://finsight.com/api/download-csv?fileId=72267\n",
      "0.167\n",
      "-------------------------------------\n",
      "reading 2020.11.23_AmeriCredit Automobile Receivables Trust 2020-1 Data Tape.csv\n",
      "https://finsight.com/api/download-csv?fileId=70206\n",
      "0.25\n",
      "-------------------------------------\n",
      "reading 2020.10.23_AmeriCredit Automobile Receivables Trust 2020-1 Data Tape.csv\n",
      "https://finsight.com/api/download-csv?fileId=68375\n",
      "0.333\n",
      "-------------------------------------\n",
      "reading 2020.09.23_AmeriCredit Automobile Receivables Trust 2020-1 Data Tape.csv\n",
      "https://finsight.com/api/download-csv?fileId=65607\n",
      "0.417\n",
      "-------------------------------------\n",
      "reading 2020.08.24_AmeriCredit Automobile Receivables Trust 2020-1 Data Tape.csv\n",
      "https://finsight.com/api/download-csv?fileId=63202\n",
      "0.5\n",
      "-------------------------------------\n",
      "reading 2020.07.23_AmeriCredit Automobile Receivables Trust 2020-1 Data Tape.csv\n",
      "https://finsight.com/api/download-csv?fileId=61179\n",
      "0.583\n",
      "-------------------------------------\n",
      "reading 2020.06.23_AmeriCredit Automobile Receivables Trust 2020-1 Data Tape.csv\n",
      "https://finsight.com/api/download-csv?fileId=58810\n"
     ]
    },
    {
     "name": "stderr",
     "output_type": "stream",
     "text": [
      "/anaconda3/envs/kn/lib/python3.7/site-packages/IPython/core/interactiveshell.py:3146: DtypeWarning: Columns (38) have mixed types.Specify dtype option on import or set low_memory=False.\n",
      "  interactivity=interactivity, compiler=compiler, result=result)\n"
     ]
    },
    {
     "name": "stdout",
     "output_type": "stream",
     "text": [
      "0.667\n",
      "-------------------------------------\n",
      "reading 2020.05.22_AmeriCredit Automobile Receivables Trust 2020-1 Data Tape.csv\n",
      "https://finsight.com/api/download-csv?fileId=56581\n",
      "0.75\n",
      "-------------------------------------\n",
      "reading 2020.04.23_AmeriCredit Automobile Receivables Trust 2020-1 Data Tape.csv\n",
      "https://finsight.com/api/download-csv?fileId=54622\n",
      "0.833\n",
      "-------------------------------------\n",
      "reading 2020.04.23_AmeriCredit Automobile Receivables Trust 2020-1 Data Tape.csv_1\n",
      "https://finsight.com/api/download-csv?fileId=54618\n",
      "0.917\n",
      "-------------------------------------\n",
      "reading 2020.02.24_AmeriCredit Automobile Receivables Trust 2020-1 Data Tape.csv\n",
      "https://finsight.com/api/download-csv?fileId=50876\n",
      "1.0\n",
      "-------------------------------------\n"
     ]
    }
   ],
   "source": [
    "collected = []\n",
    "broke = []\n",
    "master_list = []\n",
    "for file in s_keys:\n",
    "    print('reading {}'.format(file))\n",
    "    collected.append(file)\n",
    "    col_len = len(collected)\n",
    "    url = sub_dict[file]\n",
    "    print(url)\n",
    "    try:\n",
    "        init = requests.get(url).content\n",
    "        df = pd.read_csv(io.StringIO(init.decode('utf-8')))\n",
    "        df['dataset_name'] = file.split('.csv')[0]\n",
    "        master_list.append(df)\n",
    "        print(round(col_len / use_len, 3))\n",
    "    except:\n",
    "        broke.append(file)\n",
    "        print('ERROR!!!!! {}'.format(file))\n",
    "    time.sleep(2)\n",
    "    print('-------------------------------------')\n",
    "    "
   ]
  },
  {
   "cell_type": "markdown",
   "metadata": {},
   "source": [
    "### Quick processing"
   ]
  },
  {
   "cell_type": "code",
   "execution_count": 9,
   "metadata": {},
   "outputs": [
    {
     "name": "stdout",
     "output_type": "stream",
     "text": [
      "1\n",
      "2\n",
      "3\n",
      "4\n",
      "5\n",
      "6\n",
      "7\n",
      "8\n",
      "9\n",
      "10\n",
      "11\n",
      "12\n"
     ]
    }
   ],
   "source": [
    "master_df = pd.DataFrame()\n",
    "count = 0\n",
    "for df in master_list:\n",
    "    count = count + 1\n",
    "    print(count)\n",
    "    master_df = master_df.append(df)\n",
    "    "
   ]
  },
  {
   "cell_type": "code",
   "execution_count": 10,
   "metadata": {},
   "outputs": [],
   "source": [
    "master_df = master_df.reset_index(drop = True)\n"
   ]
  },
  {
   "cell_type": "code",
   "execution_count": 11,
   "metadata": {},
   "outputs": [
    {
     "data": {
      "text/plain": [
       "577.6733481649509"
      ]
     },
     "execution_count": 11,
     "metadata": {},
     "output_type": "execute_result"
    }
   ],
   "source": [
    "master_df['obligorCreditScore'].replace('None', np.nan, inplace = True)\n",
    "master_df['obligorCreditScore'] = master_df['obligorCreditScore'].astype(float)\n",
    "master_df['obligorCreditScore'].mean()"
   ]
  },
  {
   "cell_type": "code",
   "execution_count": 12,
   "metadata": {},
   "outputs": [
    {
     "data": {
      "text/plain": [
       "(554258, 73)"
      ]
     },
     "execution_count": 12,
     "metadata": {},
     "output_type": "execute_result"
    }
   ],
   "source": [
    "master_df.shape"
   ]
  },
  {
   "cell_type": "markdown",
   "metadata": {},
   "source": [
    "### Export"
   ]
  },
  {
   "cell_type": "code",
   "execution_count": 13,
   "metadata": {},
   "outputs": [
    {
     "data": {
      "text/plain": [
       "'data/transaction/AmeriCredit Automobile Receivables Trust 2020-1 Data Tape.csv'"
      ]
     },
     "execution_count": 13,
     "metadata": {},
     "output_type": "execute_result"
    }
   ],
   "source": [
    "e_folder = 'data/transaction/'\n",
    "e_file = '{}.csv'.format(term)\n",
    "e_path = e_folder + e_file\n",
    "e_path"
   ]
  },
  {
   "cell_type": "code",
   "execution_count": 14,
   "metadata": {},
   "outputs": [],
   "source": [
    "master_df.to_csv(e_path, index = False)"
   ]
  },
  {
   "cell_type": "code",
   "execution_count": 15,
   "metadata": {},
   "outputs": [
    {
     "name": "stdout",
     "output_type": "stream",
     "text": [
      "complete...\n"
     ]
    }
   ],
   "source": [
    "print('complete...')"
   ]
  },
  {
   "cell_type": "code",
   "execution_count": null,
   "metadata": {},
   "outputs": [],
   "source": []
  },
  {
   "cell_type": "markdown",
   "metadata": {},
   "source": [
    "### End"
   ]
  }
 ],
 "metadata": {
  "kernelspec": {
   "display_name": "Python 3",
   "language": "python",
   "name": "python3"
  },
  "language_info": {
   "codemirror_mode": {
    "name": "ipython",
    "version": 3
   },
   "file_extension": ".py",
   "mimetype": "text/x-python",
   "name": "python",
   "nbconvert_exporter": "python",
   "pygments_lexer": "ipython3",
   "version": "3.7.3"
  }
 },
 "nbformat": 4,
 "nbformat_minor": 4
}
