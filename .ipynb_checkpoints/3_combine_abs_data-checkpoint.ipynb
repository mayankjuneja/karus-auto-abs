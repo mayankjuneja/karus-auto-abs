{
 "cells": [
  {
   "cell_type": "markdown",
   "metadata": {},
   "source": [
    "\n",
    "\n",
    "### Load libs"
   ]
  },
  {
   "cell_type": "code",
   "execution_count": 1,
   "metadata": {},
   "outputs": [],
   "source": [
    "import pandas as pd\n",
    "import io\n",
    "import requests\n",
    "import json\n",
    "import numpy as np\n",
    "import time\n",
    "import os\n",
    "import re"
   ]
  },
  {
   "cell_type": "code",
   "execution_count": 2,
   "metadata": {},
   "outputs": [
    {
     "name": "stderr",
     "output_type": "stream",
     "text": [
      "/anaconda3/envs/kn/lib/python3.7/site-packages/ipykernel_launcher.py:4: FutureWarning: Passing a negative integer is deprecated in version 1.0 and will not be supported in future version. Instead, use None to not limit the column width.\n",
      "  after removing the cwd from sys.path.\n"
     ]
    }
   ],
   "source": [
    "n = 500\n",
    "pd.set_option('display.max_columns', n)\n",
    "pd.set_option('display.max_rows', n)\n",
    "pd.set_option('display.max_colwidth', -1)"
   ]
  },
  {
   "cell_type": "markdown",
   "metadata": {},
   "source": [
    "### Load data"
   ]
  },
  {
   "cell_type": "code",
   "execution_count": 3,
   "metadata": {},
   "outputs": [],
   "source": [
    "# detailed json\n",
    "folder = 'data/json/securitizations/detailed/'\n",
    "files = [f for f in os.listdir(folder) if '.json' in f and '._' not in f]\n",
    "files.sort()\n",
    "file = files[-1]\n",
    "path = folder + file\n",
    "with open(path) as f:\n",
    "    files_dict = json.load(f)\n",
    "keys = list(files_dict.keys())\n",
    "use_keys = [k for k in keys if k != 'total_securitizations']\n"
   ]
  },
  {
   "cell_type": "markdown",
   "metadata": {},
   "source": [
    "### Grab data"
   ]
  },
  {
   "cell_type": "code",
   "execution_count": 4,
   "metadata": {},
   "outputs": [
    {
     "data": {
      "text/plain": [
       "'AmeriCredit Automobile Receivables Trust 2017-1 Data Tape.csv'"
      ]
     },
     "execution_count": 4,
     "metadata": {},
     "output_type": "execute_result"
    }
   ],
   "source": [
    "term = 'AmeriCredit Automobile Receivables Trust 2017-1 Data Tape'\n",
    "securitization = [file for file in use_keys if term in file][0]\n",
    "securitization"
   ]
  },
  {
   "cell_type": "code",
   "execution_count": 5,
   "metadata": {},
   "outputs": [],
   "source": [
    "sub_dict = files_dict[securitization]"
   ]
  },
  {
   "cell_type": "code",
   "execution_count": 6,
   "metadata": {},
   "outputs": [],
   "source": [
    "s_keys = list(sub_dict.keys())\n",
    "s_keys = [k for k in s_keys if k != 'releases']\n"
   ]
  },
  {
   "cell_type": "code",
   "execution_count": 7,
   "metadata": {},
   "outputs": [
    {
     "data": {
      "text/plain": [
       "49"
      ]
     },
     "execution_count": 7,
     "metadata": {},
     "output_type": "execute_result"
    }
   ],
   "source": [
    "use_len = len(s_keys)\n",
    "use_len"
   ]
  },
  {
   "cell_type": "markdown",
   "metadata": {},
   "source": [
    "### Combine data tapes"
   ]
  },
  {
   "cell_type": "code",
   "execution_count": 8,
   "metadata": {},
   "outputs": [
    {
     "name": "stdout",
     "output_type": "stream",
     "text": [
      "reading 2021.01.22_AmeriCredit Automobile Receivables Trust 2017-1 Data Tape.csv\n",
      "https://finsight.com/api/download-csv?fileId=74200\n",
      "0.02\n",
      "-------------------------------------\n",
      "reading 2020.12.22_AmeriCredit Automobile Receivables Trust 2017-1 Data Tape.csv\n",
      "https://finsight.com/api/download-csv?fileId=72271\n",
      "0.041\n",
      "-------------------------------------\n",
      "reading 2020.11.23_AmeriCredit Automobile Receivables Trust 2017-1 Data Tape.csv\n",
      "https://finsight.com/api/download-csv?fileId=70210\n",
      "0.061\n",
      "-------------------------------------\n",
      "reading 2020.10.23_AmeriCredit Automobile Receivables Trust 2017-1 Data Tape.csv\n",
      "https://finsight.com/api/download-csv?fileId=68323\n",
      "0.082\n",
      "-------------------------------------\n",
      "reading 2020.09.23_AmeriCredit Automobile Receivables Trust 2017-1 Data Tape.csv\n",
      "https://finsight.com/api/download-csv?fileId=65567\n",
      "0.102\n",
      "-------------------------------------\n",
      "reading 2020.08.24_AmeriCredit Automobile Receivables Trust 2017-1 Data Tape.csv\n",
      "https://finsight.com/api/download-csv?fileId=63162\n",
      "0.122\n",
      "-------------------------------------\n",
      "reading 2020.07.23_AmeriCredit Automobile Receivables Trust 2017-1 Data Tape.csv\n",
      "https://finsight.com/api/download-csv?fileId=61139\n",
      "0.143\n",
      "-------------------------------------\n",
      "reading 2020.06.23_AmeriCredit Automobile Receivables Trust 2017-1 Data Tape.csv\n",
      "https://finsight.com/api/download-csv?fileId=58806\n",
      "0.163\n",
      "-------------------------------------\n",
      "reading 2020.05.22_AmeriCredit Automobile Receivables Trust 2017-1 Data Tape.csv\n",
      "https://finsight.com/api/download-csv?fileId=56577\n",
      "0.184\n",
      "-------------------------------------\n",
      "reading 2020.04.23_AmeriCredit Automobile Receivables Trust 2017-1 Data Tape.csv\n",
      "https://finsight.com/api/download-csv?fileId=54578\n",
      "0.204\n",
      "-------------------------------------\n",
      "reading 2020.03.23_AmeriCredit Automobile Receivables Trust 2017-1 Data Tape.csv\n",
      "https://finsight.com/api/download-csv?fileId=52862\n",
      "0.224\n",
      "-------------------------------------\n",
      "reading 2020.02.21_AmeriCredit Automobile Receivables Trust 2017-1 Data Tape.csv\n",
      "https://finsight.com/api/download-csv?fileId=50756\n",
      "0.245\n",
      "-------------------------------------\n",
      "reading 2020.01.23_AmeriCredit Automobile Receivables Trust 2017-1 Data Tape.csv\n",
      "https://finsight.com/api/download-csv?fileId=48549\n",
      "0.265\n",
      "-------------------------------------\n",
      "reading 2019.12.23_AmeriCredit Automobile Receivables Trust 2017-1 Data Tape.csv\n",
      "https://finsight.com/api/download-csv?fileId=46778\n",
      "0.286\n",
      "-------------------------------------\n",
      "reading 2019.11.22_AmeriCredit Automobile Receivables Trust 2017-1 Data Tape.csv\n",
      "https://finsight.com/api/download-csv?fileId=44473\n",
      "0.306\n",
      "-------------------------------------\n",
      "reading 2019.10.23_AmeriCredit Automobile Receivables Trust 2017-1 Data Tape.csv\n",
      "https://finsight.com/api/download-csv?fileId=42071\n",
      "0.327\n",
      "-------------------------------------\n",
      "reading 2019.09.23_AmeriCredit Automobile Receivables Trust 2017-1 Data Tape.csv\n",
      "https://finsight.com/api/download-csv?fileId=40006\n"
     ]
    },
    {
     "name": "stderr",
     "output_type": "stream",
     "text": [
      "/anaconda3/envs/kn/lib/python3.7/site-packages/IPython/core/interactiveshell.py:3146: DtypeWarning: Columns (38) have mixed types.Specify dtype option on import or set low_memory=False.\n",
      "  interactivity=interactivity, compiler=compiler, result=result)\n"
     ]
    },
    {
     "name": "stdout",
     "output_type": "stream",
     "text": [
      "0.347\n",
      "-------------------------------------\n",
      "reading 2019.08.23_AmeriCredit Automobile Receivables Trust 2017-1 Data Tape.csv\n",
      "https://finsight.com/api/download-csv?fileId=38462\n",
      "0.367\n",
      "-------------------------------------\n",
      "reading 2019.07.23_AmeriCredit Automobile Receivables Trust 2017-1 Data Tape.csv\n",
      "https://finsight.com/api/download-csv?fileId=36638\n",
      "0.388\n",
      "-------------------------------------\n",
      "reading 2019.06.24_AmeriCredit Automobile Receivables Trust 2017-1 Data Tape.csv\n",
      "https://finsight.com/api/download-csv?fileId=34898\n",
      "0.408\n",
      "-------------------------------------\n",
      "reading 2019.05.23_AmeriCredit Automobile Receivables Trust 2017-1 Data Tape.csv\n",
      "https://finsight.com/api/download-csv?fileId=33234\n",
      "0.429\n",
      "-------------------------------------\n",
      "reading 2019.04.23_AmeriCredit Automobile Receivables Trust 2017-1 Data Tape.csv\n",
      "https://finsight.com/api/download-csv?fileId=31536\n",
      "0.449\n",
      "-------------------------------------\n",
      "reading 2019.03.25_AmeriCredit Automobile Receivables Trust 2017-1 Data Tape.csv\n",
      "https://finsight.com/api/download-csv?fileId=30251\n",
      "0.469\n",
      "-------------------------------------\n",
      "reading 2019.02.22_AmeriCredit Automobile Receivables Trust 2017-1 Data Tape.csv\n",
      "https://finsight.com/api/download-csv?fileId=28459\n",
      "0.49\n",
      "-------------------------------------\n",
      "reading 2019.01.23_AmeriCredit Automobile Receivables Trust 2017-1 Data Tape.csv\n",
      "https://finsight.com/api/download-csv?fileId=26659\n",
      "0.51\n",
      "-------------------------------------\n",
      "reading 2018.12.21_AmeriCredit Automobile Receivables Trust 2017-1 Data Tape.csv\n",
      "https://finsight.com/api/download-csv?fileId=25536\n",
      "0.531\n",
      "-------------------------------------\n",
      "reading 2018.11.21_AmeriCredit Automobile Receivables Trust 2017-1 Data Tape.csv\n",
      "https://finsight.com/api/download-csv?fileId=24399\n",
      "0.551\n",
      "-------------------------------------\n",
      "reading 2018.10.23_AmeriCredit Automobile Receivables Trust 2017-1 Data Tape.csv\n",
      "https://finsight.com/api/download-csv?fileId=22954\n",
      "0.571\n",
      "-------------------------------------\n",
      "reading 2018.09.24_AmeriCredit Automobile Receivables Trust 2017-1 Data Tape.csv\n",
      "https://finsight.com/api/download-csv?fileId=21560\n",
      "0.592\n",
      "-------------------------------------\n",
      "reading 2018.08.23_AmeriCredit Automobile Receivables Trust 2017-1 Data Tape.csv\n",
      "https://finsight.com/api/download-csv?fileId=20336\n",
      "0.612\n",
      "-------------------------------------\n",
      "reading 2018.07.23_AmeriCredit Automobile Receivables Trust 2017-1 Data Tape.csv\n",
      "https://finsight.com/api/download-csv?fileId=19215\n",
      "0.633\n",
      "-------------------------------------\n",
      "reading 2018.06.25_AmeriCredit Automobile Receivables Trust 2017-1 Data Tape.csv\n",
      "https://finsight.com/api/download-csv?fileId=18134\n",
      "0.653\n",
      "-------------------------------------\n",
      "reading 2018.05.23_AmeriCredit Automobile Receivables Trust 2017-1 Data Tape.csv\n",
      "https://finsight.com/api/download-csv?fileId=16781\n",
      "0.673\n",
      "-------------------------------------\n",
      "reading 2018.04.23_AmeriCredit Automobile Receivables Trust 2017-1 Data Tape.csv\n",
      "https://finsight.com/api/download-csv?fileId=15681\n",
      "0.694\n",
      "-------------------------------------\n",
      "reading 2018.03.23_AmeriCredit Automobile Receivables Trust 2017-1 Data Tape.csv\n",
      "https://finsight.com/api/download-csv?fileId=14632\n",
      "0.714\n",
      "-------------------------------------\n",
      "reading 2018.02.23_AmeriCredit Automobile Receivables Trust 2017-1 Data Tape.csv\n",
      "https://finsight.com/api/download-csv?fileId=13797\n",
      "0.735\n",
      "-------------------------------------\n",
      "reading 2018.01.23_AmeriCredit Automobile Receivables Trust 2017-1 Data Tape.csv\n",
      "https://finsight.com/api/download-csv?fileId=12885\n",
      "0.755\n",
      "-------------------------------------\n",
      "reading 2017.12.26_AmeriCredit Automobile Receivables Trust 2017-1 Data Tape.csv\n",
      "https://finsight.com/api/download-csv?fileId=12125\n",
      "0.776\n",
      "-------------------------------------\n",
      "reading 2017.11.22_AmeriCredit Automobile Receivables Trust 2017-1 Data Tape.csv\n",
      "https://finsight.com/api/download-csv?fileId=11305\n",
      "0.796\n",
      "-------------------------------------\n",
      "reading 2017.10.23_AmeriCredit Automobile Receivables Trust 2017-1 Data Tape.csv\n",
      "https://finsight.com/api/download-csv?fileId=10337\n",
      "0.816\n",
      "-------------------------------------\n",
      "reading 2017.09.25_AmeriCredit Automobile Receivables Trust 2017-1 Data Tape.csv\n",
      "https://finsight.com/api/download-csv?fileId=9508\n",
      "0.837\n",
      "-------------------------------------\n",
      "reading 2017.08.23_AmeriCredit Automobile Receivables Trust 2017-1 Data Tape.csv\n",
      "https://finsight.com/api/download-csv?fileId=8734\n",
      "0.857\n",
      "-------------------------------------\n",
      "reading 2017.07.24_AmeriCredit Automobile Receivables Trust 2017-1 Data Tape.csv\n",
      "https://finsight.com/api/download-csv?fileId=8127\n",
      "0.878\n",
      "-------------------------------------\n",
      "reading 2017.06.23_AmeriCredit Automobile Receivables Trust 2017-1 Data Tape.csv\n",
      "https://finsight.com/api/download-csv?fileId=7524\n",
      "0.898\n",
      "-------------------------------------\n",
      "reading 2017.05.23_AmeriCredit Automobile Receivables Trust 2017-1 Data Tape.csv\n",
      "https://finsight.com/api/download-csv?fileId=6865\n",
      "0.918\n",
      "-------------------------------------\n",
      "reading 2017.04.24_AmeriCredit Automobile Receivables Trust 2017-1 Data Tape.csv\n",
      "https://finsight.com/api/download-csv?fileId=6312\n",
      "0.939\n",
      "-------------------------------------\n",
      "reading 2017.03.23_AmeriCredit Automobile Receivables Trust 2017-1 Data Tape.csv\n",
      "https://finsight.com/api/download-csv?fileId=5905\n",
      "0.959\n",
      "-------------------------------------\n",
      "reading 2017.03.23_AmeriCredit Automobile Receivables Trust 2017-1 Data Tape.csv_1\n",
      "https://finsight.com/api/download-csv?fileId=5901\n",
      "0.98\n",
      "-------------------------------------\n",
      "reading 2017.02.07_AmeriCredit Automobile Receivables Trust 2017-1 Data Tape.csv\n",
      "https://finsight.com/api/download-csv?fileId=5338\n"
     ]
    },
    {
     "name": "stderr",
     "output_type": "stream",
     "text": [
      "/anaconda3/envs/kn/lib/python3.7/site-packages/IPython/core/interactiveshell.py:3146: DtypeWarning: Columns (38,39,57) have mixed types.Specify dtype option on import or set low_memory=False.\n",
      "  interactivity=interactivity, compiler=compiler, result=result)\n"
     ]
    },
    {
     "name": "stdout",
     "output_type": "stream",
     "text": [
      "1.0\n",
      "-------------------------------------\n"
     ]
    }
   ],
   "source": [
    "collected = []\n",
    "broke = []\n",
    "master_list = []\n",
    "for file in s_keys:\n",
    "    print('reading {}'.format(file))\n",
    "    collected.append(file)\n",
    "    col_len = len(collected)\n",
    "    url = sub_dict[file]\n",
    "    print(url)\n",
    "    try:\n",
    "        init = requests.get(url).content\n",
    "        df = pd.read_csv(io.StringIO(init.decode('utf-8')))\n",
    "        df['dataset_name'] = file.split('.csv')[0]\n",
    "        master_list.append(df)\n",
    "        print(round(col_len / use_len, 3))\n",
    "    except:\n",
    "        broke.append(file)\n",
    "        print('ERROR!!!!! {}'.format(file))\n",
    "    time.sleep(2)\n",
    "    print('-------------------------------------')\n",
    "    "
   ]
  },
  {
   "cell_type": "markdown",
   "metadata": {},
   "source": [
    "### Quick processing"
   ]
  },
  {
   "cell_type": "code",
   "execution_count": 9,
   "metadata": {},
   "outputs": [
    {
     "name": "stdout",
     "output_type": "stream",
     "text": [
      "1\n",
      "2\n",
      "3\n",
      "4\n",
      "5\n",
      "6\n",
      "7\n",
      "8\n",
      "9\n",
      "10\n",
      "11\n",
      "12\n",
      "13\n",
      "14\n",
      "15\n",
      "16\n",
      "17\n",
      "18\n",
      "19\n",
      "20\n",
      "21\n",
      "22\n",
      "23\n",
      "24\n",
      "25\n",
      "26\n",
      "27\n",
      "28\n",
      "29\n",
      "30\n",
      "31\n",
      "32\n",
      "33\n",
      "34\n",
      "35\n",
      "36\n",
      "37\n",
      "38\n",
      "39\n",
      "40\n",
      "41\n",
      "42\n",
      "43\n",
      "44\n",
      "45\n",
      "46\n",
      "47\n",
      "48\n",
      "49\n"
     ]
    }
   ],
   "source": [
    "master_df = pd.DataFrame()\n",
    "count = 0\n",
    "for df in master_list:\n",
    "    count = count + 1\n",
    "    print(count)\n",
    "    master_df = master_df.append(df)\n",
    "    "
   ]
  },
  {
   "cell_type": "code",
   "execution_count": 10,
   "metadata": {},
   "outputs": [],
   "source": [
    "master_df = master_df.reset_index(drop = True)\n"
   ]
  },
  {
   "cell_type": "code",
   "execution_count": 11,
   "metadata": {},
   "outputs": [
    {
     "data": {
      "text/plain": [
       "574.8386692997385"
      ]
     },
     "execution_count": 11,
     "metadata": {},
     "output_type": "execute_result"
    }
   ],
   "source": [
    "master_df['obligorCreditScore'].replace('None', np.nan, inplace = True)\n",
    "master_df['obligorCreditScore'] = master_df['obligorCreditScore'].astype(float)\n",
    "master_df['obligorCreditScore'].mean()"
   ]
  },
  {
   "cell_type": "code",
   "execution_count": 12,
   "metadata": {},
   "outputs": [
    {
     "data": {
      "text/plain": [
       "(1578687, 73)"
      ]
     },
     "execution_count": 12,
     "metadata": {},
     "output_type": "execute_result"
    }
   ],
   "source": [
    "master_df.shape"
   ]
  },
  {
   "cell_type": "markdown",
   "metadata": {},
   "source": [
    "### Export"
   ]
  },
  {
   "cell_type": "code",
   "execution_count": 13,
   "metadata": {},
   "outputs": [
    {
     "data": {
      "text/plain": [
       "'data/transaction/AmeriCredit Automobile Receivables Trust 2017-1 Data Tape.csv'"
      ]
     },
     "execution_count": 13,
     "metadata": {},
     "output_type": "execute_result"
    }
   ],
   "source": [
    "e_folder = 'data/transaction/'\n",
    "e_file = '{}.csv'.format(term)\n",
    "e_path = e_folder + e_file\n",
    "e_path"
   ]
  },
  {
   "cell_type": "code",
   "execution_count": 14,
   "metadata": {},
   "outputs": [],
   "source": [
    "master_df.to_csv(e_path, index = False)"
   ]
  },
  {
   "cell_type": "code",
   "execution_count": 15,
   "metadata": {},
   "outputs": [
    {
     "name": "stdout",
     "output_type": "stream",
     "text": [
      "complete...\n"
     ]
    }
   ],
   "source": [
    "print('complete...')"
   ]
  },
  {
   "cell_type": "code",
   "execution_count": null,
   "metadata": {},
   "outputs": [],
   "source": []
  },
  {
   "cell_type": "markdown",
   "metadata": {},
   "source": [
    "### End"
   ]
  }
 ],
 "metadata": {
  "kernelspec": {
   "display_name": "Python 3",
   "language": "python",
   "name": "python3"
  },
  "language_info": {
   "codemirror_mode": {
    "name": "ipython",
    "version": 3
   },
   "file_extension": ".py",
   "mimetype": "text/x-python",
   "name": "python",
   "nbconvert_exporter": "python",
   "pygments_lexer": "ipython3",
   "version": "3.7.3"
  }
 },
 "nbformat": 4,
 "nbformat_minor": 4
}
