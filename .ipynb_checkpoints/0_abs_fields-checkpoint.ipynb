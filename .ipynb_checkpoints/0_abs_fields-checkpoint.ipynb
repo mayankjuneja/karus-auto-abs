{
 "cells": [
  {
   "cell_type": "markdown",
   "metadata": {},
   "source": [
    "### Load libs"
   ]
  },
  {
   "cell_type": "code",
   "execution_count": 1,
   "metadata": {},
   "outputs": [],
   "source": [
    "import json\n"
   ]
  },
  {
   "cell_type": "markdown",
   "metadata": {},
   "source": [
    "### Create fields"
   ]
  },
  {
   "cell_type": "code",
   "execution_count": 2,
   "metadata": {},
   "outputs": [],
   "source": [
    "# init\n",
    "fields_dict = {}\n",
    "fields_dict['dates'] = list(set(['reportingPeriodBeginningDate', 'reportingPeriodEndingDate', 'originationDate', 'loanMaturityDate', 'originalFirstPaymentDate', 'interestPaidThroughDate', 'zeroBalanceEffectiveDate', 'mostRecentServicingTransferReceivedDate', 'DemandResolutionDate']))\n",
    "fields_dict['replace_dash'] = list(set(['originalLoanAmount', 'originalLoanTerm', 'originalInterestRatePercentage', 'gracePeriodNumber', 'obligorCreditScore', 'paymentToIncomePercentage', 'reportingPeriodBeginningLoanBalanceAmount', 'nextReportingPeriodPaymentAmountDue', 'reportingPeriodInterestRatePercentage', 'nextInterestRatePercentage', 'servicingFeePercentage', 'servicingFlatFeeAmount', 'otherServicerFeeRetainedByServicer', 'otherAssessedUncollectedServicerFeeAmount', 'scheduledInterestAmount', 'scheduledPrincipalAmount', 'otherPrincipalAdjustmentAmount', 'reportingPeriodActualEndBalanceAmount', 'reportingPeriodScheduledPaymentAmount', 'totalActualAmountPaid', 'actualInterestCollectedAmount', 'actualPrincipalCollectedAmount', 'actualOtherCollectedAmount', 'servicerAdvancedAmount', 'currentDelinquencyStatus', 'repurchaseAmount', 'chargedoffPrincipalAmount', 'recoveredAmount', 'repossessedProceedsAmount']))\n",
    "fields_dict['clean'] = list(set(['currentDelinquencyStatus']))\n",
    "fields_dict['map'] = list(set(['interestCalculationTypeCode','originalInterestRateTypeCode','paymentTypeCode','subvented','vehicleNewUsedCode','vehicleTypeCode','vehicleValueSourceCode','obligorIncomeVerificationLevelCode','obligorEmploymentVerificationCode','servicingAdvanceMethodCode','zeroBalanceCode','assetSubjectDemandStatusCode','repurchaseReplacementReasonCode','modificationTypeCode']))\n",
    "fields_dict['init_id'] = list(set(['assetNumber']))\n",
    "fields_dict['loc'] = list(set(['dataset_name', 'assetTypeNumber', 'originatorName', 'originalLoanAmount', 'originalLoanTerm', 'originalInterestRatePercentage', 'originalInterestOnlyTermNumber', 'underwritingIndicator', 'gracePeriodNumber', 'vehicleManufacturerName', 'vehicleModelName', 'vehicleModelYear', 'vehicleValueAmount', 'obligorCreditScoreType', 'obligorCreditScore', 'coObligorIndicator', 'paymentToIncomePercentage', 'obligorGeographicLocation', 'assetAddedIndicator', 'remainingTermToMaturityNumber', 'reportingPeriodModificationIndicator', 'reportingPeriodBeginningLoanBalanceAmount', 'nextReportingPeriodPaymentAmountDue', 'reportingPeriodInterestRatePercentage', 'nextInterestRatePercentage', 'servicingFeePercentage', 'servicingFlatFeeAmount', 'otherServicerFeeRetainedByServicer', 'otherAssessedUncollectedServicerFeeAmount', 'scheduledInterestAmount', 'scheduledPrincipalAmount', 'otherPrincipalAdjustmentAmount', 'reportingPeriodActualEndBalanceAmount', 'reportingPeriodScheduledPaymentAmount', 'reportingPeriodScheduledPaymentAmount', 'totalActualAmountPaid', 'actualInterestCollectedAmount', 'actualPrincipalCollectedAmount', 'actualOtherCollectedAmount', 'servicerAdvancedAmount', 'currentDelinquencyStatus', 'primaryLoanServicerName', 'assetSubjectDemandIndicator', 'repurchaseAmount', 'repurchaserName', 'chargedoffPrincipalAmount', 'recoveredAmount', 'paymentExtendedNumber', 'repossessedIndicator', 'repossessedProceedsAmount']))   \n",
    "fields_dict['numeric'] = list(set(['currentDelinquencyStatus', 'originalLoanTerm','gracePeriodNumber','obligorCreditScore','remainingTermToMaturityNumber','paymentExtendedNumber','originalLoanAmount','originalInterestRatePercentage','vehicleValueAmount','paymentToIncomePercentage','reportingPeriodBeginningLoanBalanceAmount','nextReportingPeriodPaymentAmountDue','reportingPeriodInterestRatePercentage','nextInterestRatePercentage','servicingFeePercentage','servicingFlatFeeAmount','otherAssessedUncollectedServicerFeeAmount','scheduledInterestAmount','scheduledPrincipalAmount','otherPrincipalAdjustmentAmount','reportingPeriodActualEndBalanceAmount','reportingPeriodScheduledPaymentAmount','totalActualAmountPaid','actualInterestCollectedAmount','actualPrincipalCollectedAmount','actualOtherCollectedAmount','servicerAdvancedAmount','repurchaseAmount','chargedoffPrincipalAmount','recoveredAmount','repossessedProceedsAmount']))\n",
    "fields_dict['all_vals'] = list(set(['indexAccount', 'indexTransaction', 'accountStatus', 'zeroBalanceCodeM'] + fields_dict['map']))\n"
   ]
  },
  {
   "cell_type": "code",
   "execution_count": 3,
   "metadata": {},
   "outputs": [],
   "source": [
    "# xs\n",
    "xs_loc = list(set(['interestCalculationTypeCode','originalInterestRateTypeCode','paymentTypeCode','subvented','vehicleNewUsedCode','vehicleTypeCode','vehicleValueSourceCode','obligorIncomeVerificationLevelCode','obligorEmploymentVerificationCode','servicingAdvanceMethodCode','assetSubjectDemandStatusCode', 'originatorName', 'underwritingIndicator', 'vehicleManufacturerName', 'vehicleModelName', 'vehicleModelYear', 'coObligorIndicator', 'obligorGeographicLocation', 'currentDelinquencyStatus', 'originalLoanTerm', 'gracePeriodNumber', 'obligorCreditScore', 'remainingTermToMaturityNumber', 'paymentExtendedNumber', 'originalLoanAmount', 'originalInterestRatePercentage', 'vehicleValueAmount', 'paymentToIncomePercentage', 'reportingPeriodBeginningLoanBalanceAmount', 'nextReportingPeriodPaymentAmountDue', 'reportingPeriodInterestRatePercentage', 'nextInterestRatePercentage', 'servicingFeePercentage', 'servicingFlatFeeAmount', 'otherAssessedUncollectedServicerFeeAmount', 'scheduledInterestAmount', 'scheduledPrincipalAmount', 'otherPrincipalAdjustmentAmount', 'reportingPeriodActualEndBalanceAmount', 'reportingPeriodScheduledPaymentAmount', 'reportingPeriodScheduledPaymentAmount', 'totalActualAmountPaid', 'actualInterestCollectedAmount', 'actualPrincipalCollectedAmount', 'actualOtherCollectedAmount', 'servicerAdvancedAmount']))                       \n",
    "xs_weighted = list(set(['currentDelinquencyStatus', 'gracePeriodNumber', 'remainingTermToMaturityNumber', 'paymentExtendedNumber', 'reportingPeriodBeginningLoanBalanceAmount', 'nextReportingPeriodPaymentAmountDue', 'otherAssessedUncollectedServicerFeeAmount', 'scheduledInterestAmount', 'scheduledPrincipalAmount', 'reportingPeriodActualEndBalanceAmount', 'reportingPeriodScheduledPaymentAmount', 'totalActualAmountPaid', 'actualInterestCollectedAmount', 'actualPrincipalCollectedAmount', 'actualOtherCollectedAmount']))\n",
    "xs_min_max = list(set(['currentDelinquencyStatus', 'gracePeriodNumber', 'remainingTermToMaturityNumber', 'paymentExtendedNumber', 'reportingPeriodBeginningLoanBalanceAmount', 'nextReportingPeriodPaymentAmountDue', 'scheduledInterestAmount', 'scheduledPrincipalAmount', 'reportingPeriodActualEndBalanceAmount', 'totalActualAmountPaid', 'actualInterestCollectedAmount', 'actualPrincipalCollectedAmount', 'actualOtherCollectedAmount']))\n",
    "xs_sum = list(set(['currentDelinquencyStatus', 'gracePeriodNumber', 'paymentExtendedNumber', 'totalActualAmountPaid']))\n"
   ]
  },
  {
   "cell_type": "code",
   "execution_count": 4,
   "metadata": {},
   "outputs": [],
   "source": [
    "# combinations\n",
    "fields_dict['min_max'] = [f + 'R' for f in fields_dict['dates']] + fields_dict['numeric']\n",
    "fields_dict['all_loc'] = [f + 'R' for f in fields_dict['dates']] + fields_dict['loc'] + [f + 'M' for f in fields_dict['map']]\n",
    "fields_dict['event'] = ['accountStatus', 'zeroBalanceCodeM', 'chargedoffPrincipalAmount', 'reportingPeriodBeginningDateR', 'reportingPeriodEndingDateR']       \n"
   ]
  },
  {
   "cell_type": "code",
   "execution_count": 5,
   "metadata": {},
   "outputs": [],
   "source": [
    "# for modeling\n",
    "fields_dict['modeling'] = {'y': 'target',\n",
    "                           'x_loc':xs_loc,\n",
    "                           'x_weight':xs_weighted,\n",
    "                           'x_min_max':xs_min_max,\n",
    "                           'x_sum':xs_sum}\n"
   ]
  },
  {
   "cell_type": "code",
   "execution_count": 6,
   "metadata": {},
   "outputs": [],
   "source": [
    "fields_dict['regions'] = {}\n",
    "fields_dict['regions']['west'] = ['CA', 'OR', 'UT','WA', 'CO', 'NV', 'AK', 'MT', 'HI', 'WY', 'ID']\n",
    "fields_dict['regions']['south_west'] = ['AZ', 'TX', 'NM', 'OK']\n",
    "fields_dict['regions']['south_east'] = ['GA', 'NC', 'VA', 'FL', 'KY', 'SC', 'LA', 'AL', 'WV', 'DC', 'AR', 'DE', 'MS', 'TN' ]\n",
    "fields_dict['regions']['mid_west'] = ['IL', 'MO', 'MN', 'OH', 'WI', 'KS', 'MI', 'SD', 'IA', 'NE', 'IN', 'ND']\n",
    "fields_dict['regions']['north_east'] = ['CT', 'NY', 'PA', 'NJ', 'RI','MA', 'MD', 'VT', 'NH', 'ME']\n"
   ]
  },
  {
   "cell_type": "markdown",
   "metadata": {},
   "source": [
    "### Export"
   ]
  },
  {
   "cell_type": "code",
   "execution_count": 8,
   "metadata": {},
   "outputs": [
    {
     "data": {
      "text/plain": [
       "'data/json/fields/fields.json'"
      ]
     },
     "execution_count": 8,
     "metadata": {},
     "output_type": "execute_result"
    }
   ],
   "source": [
    "e_folder = 'data/json/fields/'\n",
    "e_file = 'fields.json'\n",
    "e_path = e_folder + e_file\n",
    "e_path\n"
   ]
  },
  {
   "cell_type": "code",
   "execution_count": 9,
   "metadata": {},
   "outputs": [],
   "source": [
    "with open(e_path, 'w') as outfile:  \n",
    "    json.dump(fields_dict, outfile, indent = 4, separators = (',', ': '), sort_keys = False)\n",
    "    "
   ]
  },
  {
   "cell_type": "code",
   "execution_count": 10,
   "metadata": {},
   "outputs": [
    {
     "name": "stdout",
     "output_type": "stream",
     "text": [
      "complete...\n"
     ]
    }
   ],
   "source": [
    "print('complete...')\n"
   ]
  },
  {
   "cell_type": "code",
   "execution_count": null,
   "metadata": {},
   "outputs": [],
   "source": []
  },
  {
   "cell_type": "markdown",
   "metadata": {},
   "source": [
    "### End"
   ]
  }
 ],
 "metadata": {
  "kernelspec": {
   "display_name": "Python 3",
   "language": "python",
   "name": "python3"
  },
  "language_info": {
   "codemirror_mode": {
    "name": "ipython",
    "version": 3
   },
   "file_extension": ".py",
   "mimetype": "text/x-python",
   "name": "python",
   "nbconvert_exporter": "python",
   "pygments_lexer": "ipython3",
   "version": "3.7.3"
  }
 },
 "nbformat": 4,
 "nbformat_minor": 4
}
