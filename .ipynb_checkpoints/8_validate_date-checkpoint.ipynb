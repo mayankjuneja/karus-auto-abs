{
 "cells": [
  {
   "cell_type": "markdown",
   "metadata": {},
   "source": [
    "### Load libs"
   ]
  },
  {
   "cell_type": "code",
   "execution_count": 16,
   "metadata": {},
   "outputs": [],
   "source": [
    "import pandas as pd\n",
    "import random\n",
    "import os"
   ]
  },
  {
   "cell_type": "markdown",
   "metadata": {},
   "source": [
    "### Load files"
   ]
  },
  {
   "cell_type": "code",
   "execution_count": 25,
   "metadata": {},
   "outputs": [],
   "source": [
    "folder = 'data/transaction/'\n",
    "files = [f for f in os.listdir(folder ) if '._' not in f and '.DS' not in f and 'prepared' not in f]\n"
   ]
  },
  {
   "cell_type": "code",
   "execution_count": 26,
   "metadata": {},
   "outputs": [
    {
     "data": {
      "text/plain": [
       "['AmeriCredit Automobile Receivables Trust 2017-1 Data Tape.csv',\n",
       " 'AmeriCredit Automobile Receivables Trust 2017-2 Data Tape.csv',\n",
       " 'AmeriCredit Automobile Receivables Trust 2017-4 Data Tape.csv',\n",
       " 'AmeriCredit Automobile Receivables Trust 2018-1 Data Tape.csv',\n",
       " 'AmeriCredit Automobile Receivables Trust 2018-3 Data Tape.csv',\n",
       " 'AmeriCredit Automobile Receivables Trust 2019-3 Data Tape.csv',\n",
       " 'AmeriCredit Automobile Receivables Trust 2020-1 Data Tape.csv',\n",
       " 'AmeriCredit Automobile Receivables Trust 2020-3 Data Tape.csv',\n",
       " 'AmeriCredit Automobile Receivables Trust 2020-2 Data Tape.csv']"
      ]
     },
     "execution_count": 26,
     "metadata": {},
     "output_type": "execute_result"
    }
   ],
   "source": [
    "files"
   ]
  },
  {
   "cell_type": "markdown",
   "metadata": {},
   "source": [
    "### Run results"
   ]
  },
  {
   "cell_type": "code",
   "execution_count": 30,
   "metadata": {},
   "outputs": [
    {
     "name": "stdout",
     "output_type": "stream",
     "text": [
      "AmeriCredit Automobile Receivables Trust 2017-1 Data Tape.csv\n"
     ]
    },
    {
     "name": "stderr",
     "output_type": "stream",
     "text": [
      "/anaconda3/envs/kn/lib/python3.7/site-packages/IPython/core/interactiveshell.py:3146: DtypeWarning: Columns (38,39,57) have mixed types.Specify dtype option on import or set low_memory=False.\n",
      "  interactivity=interactivity, compiler=compiler, result=result)\n"
     ]
    },
    {
     "name": "stdout",
     "output_type": "stream",
     "text": [
      "AmeriCredit Automobile Receivables Trust 2017-2 Data Tape.csv\n"
     ]
    },
    {
     "name": "stderr",
     "output_type": "stream",
     "text": [
      "/anaconda3/envs/kn/lib/python3.7/site-packages/IPython/core/interactiveshell.py:3146: DtypeWarning: Columns (36,38,39,44,45,46,48,57) have mixed types.Specify dtype option on import or set low_memory=False.\n",
      "  interactivity=interactivity, compiler=compiler, result=result)\n"
     ]
    },
    {
     "name": "stdout",
     "output_type": "stream",
     "text": [
      "AmeriCredit Automobile Receivables Trust 2017-4 Data Tape.csv\n"
     ]
    },
    {
     "name": "stderr",
     "output_type": "stream",
     "text": [
      "/anaconda3/envs/kn/lib/python3.7/site-packages/IPython/core/interactiveshell.py:3146: DtypeWarning: Columns (17,30,36,38,39,44,45,46,48,57) have mixed types.Specify dtype option on import or set low_memory=False.\n",
      "  interactivity=interactivity, compiler=compiler, result=result)\n"
     ]
    },
    {
     "name": "stdout",
     "output_type": "stream",
     "text": [
      "AmeriCredit Automobile Receivables Trust 2018-1 Data Tape.csv\n",
      "AmeriCredit Automobile Receivables Trust 2018-3 Data Tape.csv\n"
     ]
    },
    {
     "name": "stderr",
     "output_type": "stream",
     "text": [
      "/anaconda3/envs/kn/lib/python3.7/site-packages/IPython/core/interactiveshell.py:3146: DtypeWarning: Columns (17,36,38,39,44,45,46,48,57) have mixed types.Specify dtype option on import or set low_memory=False.\n",
      "  interactivity=interactivity, compiler=compiler, result=result)\n"
     ]
    },
    {
     "name": "stdout",
     "output_type": "stream",
     "text": [
      "AmeriCredit Automobile Receivables Trust 2019-3 Data Tape.csv\n",
      "AmeriCredit Automobile Receivables Trust 2020-1 Data Tape.csv\n",
      "AmeriCredit Automobile Receivables Trust 2020-3 Data Tape.csv\n",
      "AmeriCredit Automobile Receivables Trust 2020-2 Data Tape.csv\n"
     ]
    }
   ],
   "source": [
    "holder = []\n",
    "for f in files:\n",
    "    print(f)\n",
    "    data = pd.read_csv(folder + f)\n",
    "    init = data.shape[0]\n",
    "    prep = data.drop_duplicates(subset = ['assetNumber', 'reportingPeriodBeginningDate'], keep = 'first')\n",
    "    sec = prep.shape[0]\n",
    "    \n",
    "    _bool = init == sec\n",
    "    \n",
    "    res = {}\n",
    "    res['file'] = f\n",
    "    res['init'] = init\n",
    "    res['sec'] = sec\n",
    "    res['bool'] = _bool\n",
    "    holder.append(res)\n",
    "    "
   ]
  },
  {
   "cell_type": "code",
   "execution_count": 31,
   "metadata": {},
   "outputs": [],
   "source": [
    "df = pd.DataFrame(holder)"
   ]
  },
  {
   "cell_type": "code",
   "execution_count": 32,
   "metadata": {},
   "outputs": [
    {
     "data": {
      "text/html": [
       "<div>\n",
       "<style scoped>\n",
       "    .dataframe tbody tr th:only-of-type {\n",
       "        vertical-align: middle;\n",
       "    }\n",
       "\n",
       "    .dataframe tbody tr th {\n",
       "        vertical-align: top;\n",
       "    }\n",
       "\n",
       "    .dataframe thead th {\n",
       "        text-align: right;\n",
       "    }\n",
       "</style>\n",
       "<table border=\"1\" class=\"dataframe\">\n",
       "  <thead>\n",
       "    <tr style=\"text-align: right;\">\n",
       "      <th></th>\n",
       "      <th>file</th>\n",
       "      <th>init</th>\n",
       "      <th>sec</th>\n",
       "      <th>bool</th>\n",
       "    </tr>\n",
       "  </thead>\n",
       "  <tbody>\n",
       "    <tr>\n",
       "      <th>0</th>\n",
       "      <td>AmeriCredit Automobile Receivables Trust 2017-...</td>\n",
       "      <td>1578687</td>\n",
       "      <td>1578687</td>\n",
       "      <td>True</td>\n",
       "    </tr>\n",
       "    <tr>\n",
       "      <th>1</th>\n",
       "      <td>AmeriCredit Automobile Receivables Trust 2017-...</td>\n",
       "      <td>2152316</td>\n",
       "      <td>2152316</td>\n",
       "      <td>True</td>\n",
       "    </tr>\n",
       "    <tr>\n",
       "      <th>2</th>\n",
       "      <td>AmeriCredit Automobile Receivables Trust 2017-...</td>\n",
       "      <td>1977708</td>\n",
       "      <td>1977708</td>\n",
       "      <td>True</td>\n",
       "    </tr>\n",
       "    <tr>\n",
       "      <th>3</th>\n",
       "      <td>AmeriCredit Automobile Receivables Trust 2018-...</td>\n",
       "      <td>1490177</td>\n",
       "      <td>1490177</td>\n",
       "      <td>True</td>\n",
       "    </tr>\n",
       "    <tr>\n",
       "      <th>4</th>\n",
       "      <td>AmeriCredit Automobile Receivables Trust 2018-...</td>\n",
       "      <td>1132727</td>\n",
       "      <td>1132727</td>\n",
       "      <td>True</td>\n",
       "    </tr>\n",
       "    <tr>\n",
       "      <th>5</th>\n",
       "      <td>AmeriCredit Automobile Receivables Trust 2019-...</td>\n",
       "      <td>677840</td>\n",
       "      <td>677840</td>\n",
       "      <td>True</td>\n",
       "    </tr>\n",
       "    <tr>\n",
       "      <th>6</th>\n",
       "      <td>AmeriCredit Automobile Receivables Trust 2020-...</td>\n",
       "      <td>554258</td>\n",
       "      <td>554258</td>\n",
       "      <td>True</td>\n",
       "    </tr>\n",
       "    <tr>\n",
       "      <th>7</th>\n",
       "      <td>AmeriCredit Automobile Receivables Trust 2020-...</td>\n",
       "      <td>225015</td>\n",
       "      <td>225015</td>\n",
       "      <td>True</td>\n",
       "    </tr>\n",
       "    <tr>\n",
       "      <th>8</th>\n",
       "      <td>AmeriCredit Automobile Receivables Trust 2020-...</td>\n",
       "      <td>427442</td>\n",
       "      <td>427442</td>\n",
       "      <td>True</td>\n",
       "    </tr>\n",
       "  </tbody>\n",
       "</table>\n",
       "</div>"
      ],
      "text/plain": [
       "                                                file     init      sec  bool\n",
       "0  AmeriCredit Automobile Receivables Trust 2017-...  1578687  1578687  True\n",
       "1  AmeriCredit Automobile Receivables Trust 2017-...  2152316  2152316  True\n",
       "2  AmeriCredit Automobile Receivables Trust 2017-...  1977708  1977708  True\n",
       "3  AmeriCredit Automobile Receivables Trust 2018-...  1490177  1490177  True\n",
       "4  AmeriCredit Automobile Receivables Trust 2018-...  1132727  1132727  True\n",
       "5  AmeriCredit Automobile Receivables Trust 2019-...   677840   677840  True\n",
       "6  AmeriCredit Automobile Receivables Trust 2020-...   554258   554258  True\n",
       "7  AmeriCredit Automobile Receivables Trust 2020-...   225015   225015  True\n",
       "8  AmeriCredit Automobile Receivables Trust 2020-...   427442   427442  True"
      ]
     },
     "execution_count": 32,
     "metadata": {},
     "output_type": "execute_result"
    }
   ],
   "source": [
    "df"
   ]
  },
  {
   "cell_type": "code",
   "execution_count": 33,
   "metadata": {},
   "outputs": [
    {
     "name": "stdout",
     "output_type": "stream",
     "text": [
      "continue...\n"
     ]
    }
   ],
   "source": [
    "print('continue...')"
   ]
  },
  {
   "cell_type": "code",
   "execution_count": null,
   "metadata": {},
   "outputs": [],
   "source": []
  },
  {
   "cell_type": "markdown",
   "metadata": {},
   "source": [
    "### End"
   ]
  }
 ],
 "metadata": {
  "kernelspec": {
   "display_name": "Python 3",
   "language": "python",
   "name": "python3"
  },
  "language_info": {
   "codemirror_mode": {
    "name": "ipython",
    "version": 3
   },
   "file_extension": ".py",
   "mimetype": "text/x-python",
   "name": "python",
   "nbconvert_exporter": "python",
   "pygments_lexer": "ipython3",
   "version": "3.7.3"
  }
 },
 "nbformat": 4,
 "nbformat_minor": 4
}
