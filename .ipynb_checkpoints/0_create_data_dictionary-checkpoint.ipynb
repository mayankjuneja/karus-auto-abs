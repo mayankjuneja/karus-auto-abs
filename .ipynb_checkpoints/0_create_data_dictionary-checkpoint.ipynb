{
 "cells": [
  {
   "cell_type": "markdown",
   "metadata": {},
   "source": [
    "### Load libs"
   ]
  },
  {
   "cell_type": "code",
   "execution_count": 1,
   "metadata": {},
   "outputs": [],
   "source": [
    "import pandas as pd\n",
    "import json"
   ]
  },
  {
   "cell_type": "markdown",
   "metadata": {},
   "source": [
    "### Value mapping"
   ]
  },
  {
   "cell_type": "code",
   "execution_count": 2,
   "metadata": {},
   "outputs": [],
   "source": [
    "values_dict = {}\n",
    "values_dict['interestCalculationTypeCode'] = {'1':'Simple',\n",
    "                                              '98': 'Other'}\n",
    "values_dict['originalInterestRateTypeCode'] = {'1': 'Fixed',\n",
    "                                               '2': 'Adjustable',\n",
    "                                               '98': 'Other'}\n",
    "values_dict['paymentTypeCode'] = {'1':'Bi-Weekly',\n",
    "                                  '2': 'Monthly',\n",
    "                                  '3':'Quarterly',\n",
    "                                  '4': 'Baloon',\n",
    "                                  '98': 'Other'}\n",
    "values_dict['subvented'] = {'0': 'No',\n",
    "                            '1': 'Yes - Rate Subvention',\n",
    "                            '2': 'Yes - Cash Rebate',\n",
    "                            '98': 'Yes - Other'}\n",
    "\n",
    "values_dict['vehicleNewUsedCode'] = {'1': 'New',\n",
    "                                     '2': 'Used'}\n",
    "\n",
    "values_dict['vehicleTypeCode'] = {'1': 'Car',\n",
    "                                  '2': 'Truck',\n",
    "                                  '3': 'SUV',\n",
    "                                  '4': 'Motorcycle',\n",
    "                                  '98': 'Other',\n",
    "                                  '99': 'Unknown'}\n",
    "\n",
    "values_dict['vehicleValueSourceCode'] = {'1': 'Invoice Price',\n",
    "                                         '2': 'MSRP',\n",
    "                                         '3': 'Kelly Blue Book',\n",
    "                                         '98': 'Other'}\n",
    "\n",
    "values_dict['obligorIncomeVerificationLevelCode'] = {'1': 'Not stated, not verified',\n",
    "                                                     '2': 'Stated, not verified',\n",
    "                                                     '3': 'Stated, verified but not to level 4 or level 5',\n",
    "                                                     '4': 'Stated level 4 verified'}\n",
    "\n",
    "values_dict['obligorEmploymentVerificationCode'] = {'1': 'Not stated, not verified',\n",
    "                                                    '2': 'Stated, not verified',\n",
    "                                                    '3': 'Stated, level 3 verified'}\n",
    "\n",
    "values_dict['servicingAdvanceMethodCode'] = {'1': 'No advancing',\n",
    "                                             '2': 'Interest only',\n",
    "                                             '3': 'Principal only',\n",
    "                                             '4': 'Principal and Interest',\n",
    "                                             '99': 'Unavailable'}\n",
    "\n",
    "values_dict['zeroBalanceCode'] = {'1': 'Prepaid or Matured',\n",
    "                                  '2': 'Third-Party Sale',\n",
    "                                  '3': 'Repurchased or Replaced',\n",
    "                                  '4': 'Charged-off',\n",
    "                                  '5': 'Servicing Transfer',\n",
    "                                  '99': 'Unavailable'}\n",
    "\n",
    "values_dict['assetSubjectDemandStatusCode'] = {'0': 'Asset Pending Repurchase or Replacement',\n",
    "                                               '1': 'Asset Was Repurchased or Replaced',\n",
    "                                               '2': 'Demand in Dispute',\n",
    "                                               '3': 'Demand Withdrawn',\n",
    "                                               '4': 'Demand Rejected',\n",
    "                                               '98': 'Other'}\n",
    "\n",
    "values_dict['repurchaseReplacementReasonCode'] = {'1': 'Fraud',\n",
    "                                                  '2': 'Early Payment Default',\n",
    "                                                  '3': 'Other Recourse Obligation',\n",
    "                                                  '4': 'Reps/Warrants Breach',\n",
    "                                                  '5': 'Servicer Breach',\n",
    "                                                  '98': 'Other',\n",
    "                                                  '99': 'Unknown'}\n",
    "\n",
    "values_dict['modificationTypeCode'] = {'1': 'APR',\n",
    "                                       '2': 'Principal',\n",
    "                                       '3': 'Term',\n",
    "                                       '4': 'Extension',\n",
    "                                       '98': 'Other'}\n"
   ]
  },
  {
   "cell_type": "markdown",
   "metadata": {},
   "source": [
    "### Export"
   ]
  },
  {
   "cell_type": "code",
   "execution_count": 3,
   "metadata": {},
   "outputs": [
    {
     "data": {
      "text/plain": [
       "'data/dictionary/mapper/mapper.json'"
      ]
     },
     "execution_count": 3,
     "metadata": {},
     "output_type": "execute_result"
    }
   ],
   "source": [
    "e_folder = 'data/dictionary/mapper/'\n",
    "e_file = 'mapper.json'\n",
    "e_path = e_folder + e_file\n",
    "e_path"
   ]
  },
  {
   "cell_type": "code",
   "execution_count": 4,
   "metadata": {},
   "outputs": [],
   "source": [
    "with open(e_path, 'w') as outfile:  \n",
    "    json.dump(values_dict, outfile, indent = 4, separators = (',', ': '), sort_keys = False)"
   ]
  },
  {
   "cell_type": "code",
   "execution_count": 5,
   "metadata": {},
   "outputs": [
    {
     "name": "stdout",
     "output_type": "stream",
     "text": [
      "complete...\n"
     ]
    }
   ],
   "source": [
    "print('complete...')"
   ]
  },
  {
   "cell_type": "code",
   "execution_count": null,
   "metadata": {},
   "outputs": [],
   "source": []
  },
  {
   "cell_type": "markdown",
   "metadata": {},
   "source": [
    "### End"
   ]
  }
 ],
 "metadata": {
  "kernelspec": {
   "display_name": "Python 3",
   "language": "python",
   "name": "python3"
  },
  "language_info": {
   "codemirror_mode": {
    "name": "ipython",
    "version": 3
   },
   "file_extension": ".py",
   "mimetype": "text/x-python",
   "name": "python",
   "nbconvert_exporter": "python",
   "pygments_lexer": "ipython3",
   "version": "3.7.3"
  }
 },
 "nbformat": 4,
 "nbformat_minor": 4
}
